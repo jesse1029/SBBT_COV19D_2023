{
 "cells": [
  {
   "cell_type": "code",
   "execution_count": 4,
   "id": "ba8f5ce5",
   "metadata": {},
   "outputs": [],
   "source": [
    "import os\n",
    "import gc\n",
    "import cv2\n",
    "import math\n",
    "import copy\n",
    "import time\n",
    "import random\n",
    "import pickle\n",
    "\n",
    "# For data manipulation\n",
    "import numpy as np\n",
    "import pandas as pd\n",
    "\n",
    "# Pytorch Imports\n",
    "import torch\n",
    "import torch.nn as nn\n",
    "import torch.optim as optim\n",
    "import torch.nn.functional as F\n",
    "from torch.optim import lr_scheduler\n",
    "from torch.utils.data import Dataset, DataLoader\n",
    "from torch.cuda import amp\n",
    "\n",
    "# Albumentations for augmentations\n",
    "import albumentations as A\n",
    "from albumentations.pytorch import ToTensorV2\n",
    "\n",
    "\n",
    "from sklearn.metrics import f1_score,roc_auc_score\n",
    "\n",
    "\n",
    "import timm\n",
    "from timm.models.efficientnet import *\n",
    "\n",
    "# Utils\n",
    "import joblib\n",
    "from tqdm import tqdm\n",
    "from collections import defaultdict\n",
    "\n",
    "\n",
    "import warnings\n",
    "warnings.filterwarnings(\"ignore\")\n",
    "\n",
    "from sklearn.metrics import f1_score\n",
    "\n",
    "import matplotlib.pyplot as plt\n",
    "import glob"
   ]
  },
  {
   "cell_type": "code",
   "execution_count": 5,
   "id": "ef5cb58c",
   "metadata": {},
   "outputs": [
    {
     "name": "stdout",
     "output_type": "stream",
     "text": [
      "96\n"
     ]
    }
   ],
   "source": [
    "print(os.cpu_count())\n",
    "job=51\n",
    "tc=\"loss\""
   ]
  },
  {
   "cell_type": "code",
   "execution_count": 11,
   "id": "50544dab",
   "metadata": {},
   "outputs": [],
   "source": [
    "# test_df = pd.read_csv('./csv_pickle/filter_slice_test_df.csv')\n",
    "# df = pd.DataFrame([],columns=['path','index'])\n",
    "# for idx, path_list in enumerate(np.array_split(test_df.path.values.tolist(), 4)):\n",
    "#     print(idx)\n",
    "#     for path in path_list.tolist():\n",
    "#         path_img = [os.path.join(path,i) for i in os.listdir(path)]\n",
    "#         path_img = pd.DataFrame(path_img, columns=['path'])\n",
    "#         path_img['index'] = idx\n",
    "#         df = pd.concat([df, path_img])\n",
    "# df.to_csv(\"./csv_pickle/2dcnn_test_df.csv\", index=False, encoding='utf-8-sig') #get all slice image"
   ]
  },
  {
   "cell_type": "code",
   "execution_count": 12,
   "id": "2be5be34",
   "metadata": {},
   "outputs": [
    {
     "data": {
      "text/plain": [
       "'./best_model/best_track1_job_51_effnetb3a_size384_challenge[DataParallel].bin'"
      ]
     },
     "execution_count": 12,
     "metadata": {},
     "output_type": "execute_result"
    }
   ],
   "source": [
    "weights_path=f\"./best_model/best_track1_job_51_effnetb3a_size384_challenge[DataParallel].bin\"\n",
    "weights_path"
   ]
  },
  {
   "cell_type": "code",
   "execution_count": 13,
   "id": "251159d5",
   "metadata": {},
   "outputs": [],
   "source": [
    "os.environ[\"CUDA_VISIBLE_DEVICES\"] = \"6\"\n",
    "CONFIG = {\"seed\": 2022,\n",
    "          \"epochs\": 100,  #24\n",
    "          \"img_size\": 256, #512\n",
    "          \"train_batch_size\": 8, #16\n",
    "          \"valid_batch_size\": 16,\n",
    "          \"learning_rate\": 0.0001,\n",
    "          \"scheduler\": 'onecycleLR',\n",
    "          \"min_lr\": 1e-6,\n",
    "          \"weight_decay\": 0.0005, #1e-6\n",
    "          \"n_accumulate\": 1, #2\n",
    "          \"device\": torch.device(\"cuda\" if torch.cuda.is_available() else \"cpu\"),\n",
    "          #'onecycleLR'\n",
    "          \"pct_start\":0.1,\n",
    "          \"max_lr\":0.000025,\n",
    "          \"train_batch\":4,\n",
    "          \n",
    "          }\n",
    "data_transforms = {\n",
    "    \"valid\": A.Compose([\n",
    "        A.Resize(CONFIG['img_size'], CONFIG['img_size']),\n",
    "\n",
    "        A.Normalize(),\n",
    "        ToTensorV2()], p=1.)\n",
    "}"
   ]
  },
  {
   "cell_type": "code",
   "execution_count": 14,
   "id": "edf9799d",
   "metadata": {},
   "outputs": [],
   "source": [
    "def set_seed(seed=42):\n",
    "    '''Sets the seed of the entire notebook so results are the same every time we run.\n",
    "    This is for REPRODUCIBILITY.'''\n",
    "    np.random.seed(seed)\n",
    "    torch.manual_seed(seed)\n",
    "    torch.cuda.manual_seed(seed)\n",
    "    # When running on the CuDNN backend, two further options must be set\n",
    "    torch.backends.cudnn.deterministic = False\n",
    "    torch.backends.cudnn.benchmark = True\n",
    "    # Set a fixed value for the hash seed\n",
    "    os.environ['PYTHONHASHSEED'] = str(seed)\n",
    "    \n",
    "set_seed()"
   ]
  },
  {
   "cell_type": "code",
   "execution_count": 15,
   "id": "8b271594",
   "metadata": {},
   "outputs": [],
   "source": [
    "class Covid19Dataset(Dataset):\n",
    "    def __init__(self, df,transforms=None):\n",
    "        self.df = df\n",
    "  \n",
    "        self.path = df['path'].values\n",
    " \n",
    "        self.transforms = transforms\n",
    "        \n",
    "    def __len__(self):\n",
    "        return len(self.df)\n",
    "    \n",
    "    def __getitem__(self, index):\n",
    " \n",
    "\n",
    "        img_path_ = self.path[index]\n",
    "     \n",
    "\n",
    "        img = cv2.imread(img_path_)\n",
    "        try:\n",
    "            img = cv2.cvtColor(img, cv2.COLOR_BGR2RGB)\n",
    "        except:\n",
    "            print(img_path_ )\n",
    "        img = self.transforms(image=img)['image']\n",
    "        return {\n",
    "            'image': img,\n",
    "\n",
    "            'id' : img_path_ \n",
    "        }"
   ]
  },
  {
   "cell_type": "code",
   "execution_count": 16,
   "id": "30ecfb4f",
   "metadata": {},
   "outputs": [],
   "source": []
  },
  {
   "cell_type": "code",
   "execution_count": 8,
   "id": "37244f62",
   "metadata": {},
   "outputs": [],
   "source": [
    "df = pd.read_csv(\"./csv_pickle/2dcnn_test_df.csv\")\n",
    "df = df['path']\n",
    "def prepare_loaders():\n",
    "    train_dataset = Covid19Dataset(df, transforms=data_transforms[\"valid\"])\n",
    "    train_loader = DataLoader(train_dataset, batch_size=128, \n",
    "                              num_workers=25, shuffle=False, pin_memory=True)    \n",
    "    return train_loader\n",
    "train_loader = prepare_loaders()"
   ]
  },
  {
   "cell_type": "code",
   "execution_count": 9,
   "id": "7e8978f0",
   "metadata": {},
   "outputs": [],
   "source": [
    "class Net(nn.Module):\n",
    "    def __init__(self):\n",
    "        super(Net, self).__init__()\n",
    "\n",
    "        e = efficientnet_b3a(pretrained=True, drop_rate=0.3, drop_path_rate=0.2)\n",
    "        self.b0 = nn.Sequential(\n",
    "            e.conv_stem,\n",
    "            e.bn1,\n",
    "            e.act1,\n",
    "        )\n",
    "        self.b1 = e.blocks[0]\n",
    "        self.b2 = e.blocks[1]\n",
    "        self.b3 = e.blocks[2]\n",
    "        self.b4 = e.blocks[3]\n",
    "        self.b5 = e.blocks[4]\n",
    "        self.b6 = e.blocks[5]\n",
    "        self.b7 = e.blocks[6]\n",
    "        self.b8 = nn.Sequential(\n",
    "            e.conv_head, \n",
    "            e.bn2,\n",
    "            e.act2,\n",
    "        )\n",
    "\n",
    "        \n",
    "        self.emb = nn.Linear(1536,224)\n",
    "        self.logit = nn.Linear(224,1)\n",
    "\n",
    "    def forward(self, image):\n",
    "        batch_size = len(image)\n",
    "        x = 2*image-1     \n",
    "        x = self.b0(x) \n",
    "        x = self.b1(x) \n",
    "        x = self.b2(x) \n",
    "        x = self.b3(x) \n",
    "        x = self.b4(x) \n",
    "        x = self.b5(x) \n",
    "\n",
    "        x = self.b6(x) \n",
    "        x = self.b7(x) \n",
    "        x = self.b8(x) \n",
    "        x = F.adaptive_avg_pool2d(x,1).reshape(batch_size,-1)\n",
    "        x = self.emb(x)\n",
    "        # logit = self.logit(x)\n",
    "        \n",
    "        return x\n",
    "\n"
   ]
  },
  {
   "cell_type": "code",
   "execution_count": 10,
   "id": "863d37b0",
   "metadata": {},
   "outputs": [],
   "source": [
    "model=Net()\n",
    "model.load_state_dict(torch.load(weights_path))\n",
    "model=model.to(CONFIG['device'])\n"
   ]
  },
  {
   "cell_type": "code",
   "execution_count": 11,
   "id": "e8aa2d45",
   "metadata": {},
   "outputs": [],
   "source": [
    "\n",
    "@torch.inference_mode()\n",
    "def get_embeddings(model, dataloader, device):\n",
    "    model.eval()\n",
    "    \n",
    "    LABELS = []\n",
    "    EMBEDS = []\n",
    "    IDS = []\n",
    "    df_224 = pd.DataFrame([],columns=['path', 'embed','split', 'label', 'ct_path', 'ct_slice', 'ct_len'])\n",
    "    with torch.no_grad():\n",
    "        bar = tqdm(enumerate(dataloader), total=len(dataloader))\n",
    "        for step, data in bar:\n",
    "            data_img = data['image']\n",
    "            images = data_img.to(device, dtype=torch.float)\n",
    "            ids = data['id']\n",
    "            outputs = model(images)\n",
    "            # for id_ in ids:\n",
    "            for emb_, id_ in zip(outputs.cpu().numpy(), ids):\n",
    "                id_split = id_.replace(\".jpg\",\"\").split(\"/\")\n",
    "                ct_original_path = os.path.join('/',*id_split[0:-1])\n",
    "                ct_len = len(os.listdir(ct_original_path))\n",
    "                split_type = 'test'\n",
    "                label_type = 'None'\n",
    "                save_path = os.path.join(\"/ssd8/2023COVID19/2023_covid/COVID2023_test_data_embed_npy/\", id_split[-4], id_split[-3], id_split[-2])\n",
    "                os.makedirs(save_path, exist_ok=True)\n",
    "                full_path = os.path.join(save_path, (id_split[-1]+'.npy'))\n",
    "                np.save(full_path, emb_)\n",
    "                singel_slice_info = [ct_original_path, id_split[-1]+'.npy', split_type, label_type, save_path, id_split[-1], ct_len]\n",
    "                df_224 = pd.concat([df_224, pd.DataFrame([singel_slice_info],columns=['path', 'embed','split', 'label', 'ct_path', 'ct_slice', 'ct_len'])])\n",
    "    return EMBEDS, IDS, df_224"
   ]
  },
  {
   "cell_type": "code",
   "execution_count": 12,
   "id": "11b29cfb",
   "metadata": {},
   "outputs": [],
   "source": [
    "train_loader = prepare_loaders()"
   ]
  },
  {
   "cell_type": "code",
   "execution_count": 13,
   "id": "cc4a15c5",
   "metadata": {},
   "outputs": [
    {
     "name": "stderr",
     "output_type": "stream",
     "text": [
      "100%|██████████| 1535/1535 [1:05:18<00:00,  2.55s/it]\n"
     ]
    }
   ],
   "source": [
    "_, _, df_224 = get_embeddings(model, train_loader, CONFIG['device'])"
   ]
  },
  {
   "cell_type": "code",
   "execution_count": 14,
   "id": "f61b9510",
   "metadata": {},
   "outputs": [],
   "source": [
    "df_224.to_csv(\"./csv_pickle/df_test_224.csv\", index=False, encoding='utf-8-sig')"
   ]
  },
  {
   "cell_type": "code",
   "execution_count": null,
   "id": "fd9fda12",
   "metadata": {},
   "outputs": [],
   "source": []
  }
 ],
 "metadata": {
  "kernelspec": {
   "display_name": "covid2023",
   "language": "python",
   "name": "python3"
  },
  "language_info": {
   "codemirror_mode": {
    "name": "ipython",
    "version": 3
   },
   "file_extension": ".py",
   "mimetype": "text/x-python",
   "name": "python",
   "nbconvert_exporter": "python",
   "pygments_lexer": "ipython3",
   "version": "3.8.16"
  },
  "vscode": {
   "interpreter": {
    "hash": "35e4eaf7fc1241741242c84999f2000af8b451353219079a4e5df2fc9b8f3715"
   }
  }
 },
 "nbformat": 4,
 "nbformat_minor": 5
}
