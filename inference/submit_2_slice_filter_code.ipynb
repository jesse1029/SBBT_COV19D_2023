{
 "cells": [
  {
   "cell_type": "code",
   "execution_count": 1,
   "metadata": {},
   "outputs": [],
   "source": [
    "import pickle, pandas as pd, numpy as np, os"
   ]
  },
  {
   "cell_type": "code",
   "execution_count": 2,
   "metadata": {},
   "outputs": [],
   "source": [
    "test_pickle = \"/ssd8/2023COVID19/Train_Valid_dataset/test_dic1_05.pickle\" \n",
    "with open(test_pickle, 'rb') as f:\n",
    "    test_dic = pickle.load(f)"
   ]
  },
  {
   "cell_type": "code",
   "execution_count": 3,
   "metadata": {},
   "outputs": [
    {
     "name": "stdout",
     "output_type": "stream",
     "text": [
      "========== loading data DataFrame ==========\n"
     ]
    }
   ],
   "source": [
    "test_df = pd.DataFrame(None, columns=['path', 'filename'])\n",
    "\n",
    "print(\"=\"*10, \"loading data DataFrame\", \"=\"*10)\n",
    "\n",
    "for path in list(test_dic.keys()):\n",
    "    image_list = os.listdir(path)\n",
    "    image_list.sort(key=lambda x: int(os.path.splitext(x)[0]))\n",
    "    temp_df = pd.DataFrame([path]*len(image_list), columns=['path'])\n",
    "    temp_df['filename'] = image_list\n",
    "    test_df = pd.concat([test_df, temp_df]) "
   ]
  },
  {
   "cell_type": "code",
   "execution_count": 6,
   "metadata": {},
   "outputs": [
    {
     "name": "stdout",
     "output_type": "stream",
     "text": [
      "4308\n",
      "(4308, 2)\n",
      "(4308, 2)\n"
     ]
    }
   ],
   "source": [
    "import copy\n",
    "cp_test_dic = copy.deepcopy(test_dic)\n",
    "print(len(cp_test_dic))\n",
    "print(test_df.shape)\n",
    "test_df = test_df.drop_duplicates(subset='path')\n",
    "print(test_df.shape)"
   ]
  },
  {
   "cell_type": "code",
   "execution_count": 7,
   "metadata": {},
   "outputs": [],
   "source": [
    "with open('/ssd8/2023COVID19/CT-COVID19-Classification/inference_code/csv_pickle/filter_slice_test_dic1_05_.pickle', 'wb') as handle:\n",
    "    pickle.dump(cp_test_dic, handle, protocol=pickle.HIGHEST_PROTOCOL)\n",
    "test_df.to_csv(\"/ssd8/2023COVID19/CT-COVID19-Classification/inference_code/csv_pickle/filter_slice_test_df.csv\", index=False, encoding='utf-8-sig')"
   ]
  },
  {
   "cell_type": "code",
   "execution_count": null,
   "metadata": {},
   "outputs": [],
   "source": []
  }
 ],
 "metadata": {
  "kernelspec": {
   "display_name": "covid2023",
   "language": "python",
   "name": "python3"
  },
  "language_info": {
   "codemirror_mode": {
    "name": "ipython",
    "version": 3
   },
   "file_extension": ".py",
   "mimetype": "text/x-python",
   "name": "python",
   "nbconvert_exporter": "python",
   "pygments_lexer": "ipython3",
   "version": "3.8.16"
  },
  "orig_nbformat": 4,
  "vscode": {
   "interpreter": {
    "hash": "35e4eaf7fc1241741242c84999f2000af8b451353219079a4e5df2fc9b8f3715"
   }
  }
 },
 "nbformat": 4,
 "nbformat_minor": 2
}
