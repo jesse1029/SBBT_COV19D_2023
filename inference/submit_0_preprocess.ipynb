{
 "cells": [
  {
   "cell_type": "code",
   "execution_count": 1,
   "id": "4d9315cc",
   "metadata": {},
   "outputs": [],
   "source": [
    "test_folder_path=\"/ssd8/2023COVID19/2023_covid/test_covid/unzip_ct\""
   ]
  },
  {
   "cell_type": "code",
   "execution_count": 2,
   "id": "1dd81378",
   "metadata": {},
   "outputs": [],
   "source": [
    "import os\n",
    "import gc\n",
    "import cv2\n",
    "import math\n",
    "import copy\n",
    "import time\n",
    "import random\n",
    "import shutil, sys    \n",
    "\n",
    "import glob\n",
    "# For data manipulation\n",
    "import numpy as np\n",
    "import pandas as pd\n",
    "\n",
    "# Pytorch Imports\n",
    "import torch\n",
    "import torch.nn as nn\n",
    "import torch.optim as optim\n",
    "import torch.nn.functional as F\n",
    "from torch.optim import lr_scheduler\n",
    "from torch.utils.data import Dataset, DataLoader\n",
    "from torch.cuda import amp\n",
    "\n",
    "# Albumentations for augmentations\n",
    "import albumentations as A\n",
    "from albumentations.pytorch import ToTensorV2\n",
    "\n",
    "\n",
    "from sklearn.metrics import f1_score,roc_auc_score\n",
    "\n",
    "\n",
    "import timm\n",
    "from timm.models.efficientnet import *\n",
    "\n",
    "# Utils\n",
    "import joblib\n",
    "from tqdm import tqdm\n",
    "from collections import defaultdict\n",
    "\n",
    "\n",
    "import warnings\n",
    "warnings.filterwarnings(\"ignore\")\n",
    "\n",
    "from sklearn.metrics import f1_score\n",
    "\n",
    "import matplotlib.pyplot as plt\n",
    "from scipy import ndimage"
   ]
  },
  {
   "cell_type": "code",
   "execution_count": 3,
   "id": "6dc042f0",
   "metadata": {},
   "outputs": [],
   "source": [
    "test_ct_list=list(glob.glob(os.path.join(test_folder_path, \"*\"))) "
   ]
  },
  {
   "cell_type": "code",
   "execution_count": 4,
   "id": "979c4564",
   "metadata": {},
   "outputs": [
    {
     "data": {
      "text/plain": [
       "4308"
      ]
     },
     "execution_count": 4,
     "metadata": {},
     "output_type": "execute_result"
    }
   ],
   "source": [
    "len(test_ct_list)"
   ]
  },
  {
   "cell_type": "code",
   "execution_count": 5,
   "id": "1e24f464",
   "metadata": {},
   "outputs": [],
   "source": [
    "# test_ct_list=test_ct_list[-400:-390]   #quick test1\n",
    "# test_ct_list=test_ct_list[-1] #quick test2"
   ]
  },
  {
   "cell_type": "code",
   "execution_count": 6,
   "id": "c4ba2709",
   "metadata": {},
   "outputs": [],
   "source": [
    "#quick test2\n",
    "if isinstance(test_ct_list, str):\n",
    "    test_ct_list=[test_ct_list]\n",
    "    print(\"run this code\")"
   ]
  },
  {
   "cell_type": "code",
   "execution_count": 7,
   "id": "238f7d85",
   "metadata": {},
   "outputs": [],
   "source": [
    "def autocropmin(image, threshold=100, kernsel_size = 10):\n",
    "        \n",
    "    img = image.copy()\n",
    "    \n",
    "    SIZE = img.shape[0]\n",
    "    imgfilt = ndimage.minimum_filter(img, size=kernsel_size)\n",
    "    img_b=np.where(imgfilt<threshold,0,255)\n",
    "    a=img_b[:,:,0].sum(axis=1)\n",
    "    a=np.concatenate(([0],a,[0]))\n",
    "\n",
    "    a_=np.where(a==0)[0]\n",
    "    mina=a_[np.argmax(a_[1:]-a_[:-1])]\n",
    "    maxa=a_[np.argmax(a_[1:]-a_[:-1])+1]-1\n",
    "\n",
    "    b=img_b[:,:,0].sum(axis=0)\n",
    "    b=np.concatenate(([0],b,[0]))\n",
    "\n",
    "    b_=np.where(b==0)[0]\n",
    "    minb=b_[np.argmax(b_[1:]-b_[:-1])]\n",
    "    maxb=b_[np.argmax(b_[1:]-b_[:-1])+1]-1\n",
    "\n",
    "    if  mina!=maxa and minb!=maxb:\n",
    "        imageout=img[mina:maxa,minb:maxb,:]\n",
    "    else:\n",
    "        imageout=img\n",
    "\n",
    "    return imageout"
   ]
  },
  {
   "cell_type": "code",
   "execution_count": 8,
   "id": "2af18593",
   "metadata": {},
   "outputs": [
    {
     "name": "stderr",
     "output_type": "stream",
     "text": [
      "  5%|▍         | 200/4308 [26:18<7:07:55,  6.25s/it] "
     ]
    },
    {
     "name": "stdout",
     "output_type": "stream",
     "text": [
      "/ssd8/2023COVID19/Train_Valid_dataset/test_crop/32d895c2-f4db-4187-afed-823a4a045367\n"
     ]
    },
    {
     "name": "stderr",
     "output_type": "stream",
     "text": [
      " 16%|█▌        | 670/4308 [1:34:57<9:15:10,  9.16s/it] "
     ]
    },
    {
     "name": "stdout",
     "output_type": "stream",
     "text": [
      "bug file\n",
      "bug file\n",
      "bug file\n",
      "bug file\n",
      "bug file\n",
      "bug file\n",
      "bug file\n",
      "bug file\n",
      "bug file\n",
      "bug file\n",
      "bug file\n",
      "bug file\n"
     ]
    },
    {
     "name": "stderr",
     "output_type": "stream",
     "text": [
      " 16%|█▌        | 671/4308 [1:35:06<9:03:01,  8.96s/it]"
     ]
    },
    {
     "name": "stdout",
     "output_type": "stream",
     "text": [
      "bug file\n"
     ]
    },
    {
     "name": "stderr",
     "output_type": "stream",
     "text": [
      " 20%|█▉        | 850/4308 [1:59:57<5:44:25,  5.98s/it] "
     ]
    },
    {
     "name": "stdout",
     "output_type": "stream",
     "text": [
      "bug file\n",
      "bug file\n",
      "bug file\n",
      "bug file\n",
      "bug file\n",
      "bug file\n",
      "bug file\n",
      "bug file\n",
      "bug file\n",
      "bug file\n",
      "bug file\n",
      "bug file\n",
      "bug file\n",
      "bug file\n",
      "bug file\n",
      "bug file\n",
      "bug file\n",
      "bug file\n",
      "bug file\n"
     ]
    },
    {
     "name": "stderr",
     "output_type": "stream",
     "text": [
      " 23%|██▎       | 982/4308 [2:16:34<7:15:48,  7.86s/it] "
     ]
    },
    {
     "name": "stdout",
     "output_type": "stream",
     "text": [
      "/ssd8/2023COVID19/Train_Valid_dataset/test_crop/be444aac-341a-4ed9-b571-8528978ae2c5\n"
     ]
    },
    {
     "name": "stderr",
     "output_type": "stream",
     "text": [
      " 23%|██▎       | 987/4308 [2:17:14<5:59:33,  6.50s/it] "
     ]
    },
    {
     "name": "stdout",
     "output_type": "stream",
     "text": [
      "bug file\n"
     ]
    },
    {
     "name": "stderr",
     "output_type": "stream",
     "text": [
      " 28%|██▊       | 1218/4308 [2:46:22<5:54:17,  6.88s/it] "
     ]
    },
    {
     "name": "stdout",
     "output_type": "stream",
     "text": [
      "bug file\n",
      "bug file\n",
      "bug file\n",
      "bug file\n",
      "bug file\n",
      "bug file\n",
      "bug file\n",
      "bug file\n",
      "bug file\n",
      "bug file\n",
      "bug file\n",
      "bug file\n"
     ]
    },
    {
     "name": "stderr",
     "output_type": "stream",
     "text": [
      " 28%|██▊       | 1219/4308 [2:46:36<7:34:52,  8.84s/it]"
     ]
    },
    {
     "name": "stdout",
     "output_type": "stream",
     "text": [
      "bug file\n"
     ]
    },
    {
     "name": "stderr",
     "output_type": "stream",
     "text": [
      " 50%|█████     | 2157/4308 [4:57:10<4:35:28,  7.68s/it] "
     ]
    },
    {
     "name": "stdout",
     "output_type": "stream",
     "text": [
      "bug file\n",
      "bug file\n",
      "bug file\n",
      "bug file\n",
      "bug file\n",
      "bug file\n",
      "bug file\n",
      "bug file\n",
      "bug file\n",
      "bug file\n",
      "bug file\n"
     ]
    },
    {
     "name": "stderr",
     "output_type": "stream",
     "text": [
      " 53%|█████▎    | 2282/4308 [5:13:50<5:19:01,  9.45s/it]"
     ]
    },
    {
     "name": "stdout",
     "output_type": "stream",
     "text": [
      "/ssd8/2023COVID19/Train_Valid_dataset/test_crop/02545943-63d8-48a5-81ab-c817c16df74d\n"
     ]
    },
    {
     "name": "stderr",
     "output_type": "stream",
     "text": [
      " 54%|█████▎    | 2313/4308 [5:19:12<5:25:06,  9.78s/it] "
     ]
    },
    {
     "name": "stdout",
     "output_type": "stream",
     "text": [
      "bug file\n"
     ]
    },
    {
     "name": "stderr",
     "output_type": "stream",
     "text": [
      " 56%|█████▌    | 2419/4308 [5:33:34<3:13:07,  6.13s/it]"
     ]
    },
    {
     "name": "stdout",
     "output_type": "stream",
     "text": [
      "/ssd8/2023COVID19/Train_Valid_dataset/test_crop/0ae9ad0d-303e-43dc-ac48-cdde1d818d14\n"
     ]
    },
    {
     "name": "stderr",
     "output_type": "stream",
     "text": [
      " 58%|█████▊    | 2495/4308 [5:42:58<2:43:43,  5.42s/it]"
     ]
    },
    {
     "name": "stdout",
     "output_type": "stream",
     "text": [
      "bug file\n"
     ]
    },
    {
     "name": "stderr",
     "output_type": "stream",
     "text": [
      " 59%|█████▉    | 2560/4308 [5:51:19<2:23:23,  4.92s/it]"
     ]
    },
    {
     "name": "stdout",
     "output_type": "stream",
     "text": [
      "bug file\n",
      "bug file\n"
     ]
    },
    {
     "name": "stderr",
     "output_type": "stream",
     "text": [
      "Corrupt JPEG data: premature end of data segment\n",
      " 60%|█████▉    | 2567/4308 [5:52:01<2:09:08,  4.45s/it]"
     ]
    },
    {
     "name": "stdout",
     "output_type": "stream",
     "text": [
      "/ssd8/2023COVID19/Train_Valid_dataset/test_crop/366f5d33-56a1-48cf-b5a9-cdd9baa160d2\n"
     ]
    },
    {
     "name": "stderr",
     "output_type": "stream",
     "text": [
      " 71%|███████   | 3059/4308 [6:59:39<2:04:16,  5.97s/it]"
     ]
    },
    {
     "name": "stdout",
     "output_type": "stream",
     "text": [
      "/ssd8/2023COVID19/Train_Valid_dataset/test_crop/b07f1178-bb4b-4bf2-8e15-94cdc1aec9ef\n"
     ]
    },
    {
     "name": "stderr",
     "output_type": "stream",
     "text": [
      " 73%|███████▎  | 3159/4308 [7:12:51<1:35:51,  5.01s/it]"
     ]
    },
    {
     "name": "stdout",
     "output_type": "stream",
     "text": [
      "bug file\n"
     ]
    },
    {
     "name": "stderr",
     "output_type": "stream",
     "text": [
      " 78%|███████▊  | 3341/4308 [7:37:16<1:57:03,  7.26s/it]"
     ]
    },
    {
     "name": "stdout",
     "output_type": "stream",
     "text": [
      "bug file\n",
      "bug file\n"
     ]
    },
    {
     "name": "stderr",
     "output_type": "stream",
     "text": [
      "Corrupt JPEG data: premature end of data segment\n"
     ]
    },
    {
     "name": "stdout",
     "output_type": "stream",
     "text": [
      "bug file\n",
      "bug file\n",
      "bug file\n"
     ]
    },
    {
     "name": "stderr",
     "output_type": "stream",
     "text": [
      " 81%|████████▏ | 3506/4308 [8:01:54<1:32:05,  6.89s/it]"
     ]
    },
    {
     "name": "stdout",
     "output_type": "stream",
     "text": [
      "bug file\n",
      "bug file\n",
      "bug file\n",
      "bug file\n",
      "bug file\n",
      "bug file\n",
      "bug file\n",
      "bug file\n",
      "bug file\n",
      "bug file\n",
      "bug file\n",
      "bug file\n",
      "bug file\n",
      "bug file\n",
      "bug file\n",
      "bug file\n",
      "bug file\n",
      "bug file\n",
      "bug file\n",
      "bug file\n",
      "bug file\n"
     ]
    },
    {
     "name": "stderr",
     "output_type": "stream",
     "text": [
      " 85%|████████▍ | 3655/4308 [8:20:45<1:04:07,  5.89s/it]Corrupt JPEG data: premature end of data segment\n"
     ]
    },
    {
     "name": "stdout",
     "output_type": "stream",
     "text": [
      "bug file\n",
      "bug file\n",
      "bug file\n",
      "bug file\n",
      "bug file\n",
      "bug file\n",
      "bug file\n",
      "bug file\n",
      "bug file\n",
      "bug file\n",
      "bug file\n",
      "bug file\n",
      "bug file\n"
     ]
    },
    {
     "name": "stderr",
     "output_type": "stream",
     "text": [
      " 85%|████████▍ | 3656/4308 [8:20:49<56:23,  5.19s/it]  "
     ]
    },
    {
     "name": "stdout",
     "output_type": "stream",
     "text": [
      "bug file\n"
     ]
    },
    {
     "name": "stderr",
     "output_type": "stream",
     "text": [
      " 99%|█████████▉| 4264/4308 [9:38:22<03:30,  4.79s/it]  "
     ]
    },
    {
     "name": "stdout",
     "output_type": "stream",
     "text": [
      "/ssd8/2023COVID19/Train_Valid_dataset/test_crop/bafc1028-af1b-4155-b046-61b533bd1dbc\n"
     ]
    },
    {
     "name": "stderr",
     "output_type": "stream",
     "text": [
      " 99%|█████████▉| 4269/4308 [9:39:06<04:42,  7.26s/it]"
     ]
    },
    {
     "name": "stdout",
     "output_type": "stream",
     "text": [
      "/ssd8/2023COVID19/Train_Valid_dataset/test_crop/6ad1bafb-368b-46be-9ea4-829fb9bb258d\n"
     ]
    },
    {
     "name": "stderr",
     "output_type": "stream",
     "text": [
      " 99%|█████████▉| 4285/4308 [9:41:22<02:24,  6.28s/it]"
     ]
    },
    {
     "name": "stdout",
     "output_type": "stream",
     "text": [
      "bug file\n",
      "bug file\n",
      "bug file\n",
      "bug file\n",
      "bug file\n",
      "bug file\n",
      "bug file\n"
     ]
    },
    {
     "name": "stderr",
     "output_type": "stream",
     "text": [
      "100%|██████████| 4308/4308 [9:43:34<00:00,  8.13s/it]\n"
     ]
    }
   ],
   "source": [
    "diff_shape_ct_list=[]\n",
    "for i in tqdm(range(len(test_ct_list))):\n",
    "    \n",
    "    tmp_list=list(glob.glob(os.path.join(test_ct_list[i], \"*\")))\n",
    "    \n",
    "    \n",
    "    \n",
    "    tmp_shape_set=set()\n",
    "    for j in range(len(tmp_list)):\n",
    "    \n",
    "        str1=tmp_list[j]\n",
    "        img=cv2.imread(str1)\n",
    "        \n",
    "        try:\n",
    "            tmp_shape_set.add(img.shape)\n",
    "        except:\n",
    "            print(\"bug file\")\n",
    "            continue\n",
    "        \n",
    "        img=autocropmin(img)\n",
    "\n",
    "\n",
    "        str1=str1.replace(test_folder_path,\"/ssd8/2023COVID19/Train_Valid_dataset/test_crop\")\n",
    "\n",
    "\n",
    "        folder_path=\"/\".join(str1.split(\"/\")[:-1])\n",
    "        if len(tmp_shape_set)!=1:\n",
    "            shutil.rmtree(folder_path)\n",
    "            diff_shape_ct_list.append(folder_path.split(\"/\")[-1])\n",
    "            print(folder_path)\n",
    "            break\n",
    "            \n",
    "        if not os.path.exists(folder_path):\n",
    "            os.makedirs(folder_path)\n",
    "        cv2.imwrite(str1,img)\n"
   ]
  },
  {
   "cell_type": "code",
   "execution_count": 13,
   "id": "21d4c0a2",
   "metadata": {},
   "outputs": [],
   "source": [
    "for ct in diff_shape_ct_list:\n",
    "    str1=test_folder_path+\"/\"+ct\n",
    "    str2=\"/ssd8/2023COVID19/Train_Valid_dataset/test_crop/\"+ct\n",
    "    \n",
    "    tmp_list=list(glob.glob(os.path.join(str1, \"*\")))\n",
    "    last_file=str(len(tmp_list)-1)+\".jpg\"\n",
    "    str1=str1+\"/\"+last_file\n",
    "    str2=str2+\"/\"+last_file\n",
    "    # print(str1)\n",
    "    # print(str2)\n",
    "    img=cv2.imread(str1)\n",
    "    img=autocropmin(img)\n",
    "    folder_path=\"/\".join(str2.split(\"/\")[:-1])\n",
    "    # print(folder_path)\n",
    "    if not os.path.exists(folder_path):\n",
    "        os.makedirs(folder_path)\n",
    "    cv2.imwrite(str2,img)\n",
    "    "
   ]
  },
  {
   "cell_type": "code",
   "execution_count": 14,
   "id": "29197989",
   "metadata": {},
   "outputs": [
    {
     "data": {
      "text/plain": [
       "4308"
      ]
     },
     "execution_count": 14,
     "metadata": {},
     "output_type": "execute_result"
    }
   ],
   "source": [
    "len(os.listdir(\"/ssd8/2023COVID19/Train_Valid_dataset/test_crop/\"))"
   ]
  },
  {
   "cell_type": "code",
   "execution_count": null,
   "id": "b3b759ad",
   "metadata": {},
   "outputs": [],
   "source": []
  }
 ],
 "metadata": {
  "kernelspec": {
   "display_name": "covid2023",
   "language": "python",
   "name": "python3"
  },
  "language_info": {
   "codemirror_mode": {
    "name": "ipython",
    "version": 3
   },
   "file_extension": ".py",
   "mimetype": "text/x-python",
   "name": "python",
   "nbconvert_exporter": "python",
   "pygments_lexer": "ipython3",
   "version": "3.8.16"
  },
  "vscode": {
   "interpreter": {
    "hash": "35e4eaf7fc1241741242c84999f2000af8b451353219079a4e5df2fc9b8f3715"
   }
  }
 },
 "nbformat": 4,
 "nbformat_minor": 5
}
