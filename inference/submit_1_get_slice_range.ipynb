{
 "cells": [
  {
   "cell_type": "code",
   "execution_count": 1,
   "id": "16b45b33",
   "metadata": {},
   "outputs": [],
   "source": [
    "import os\n",
    "import gc\n",
    "import cv2\n",
    "import math\n",
    "import copy\n",
    "import time\n",
    "import random\n",
    "\n",
    "# For data manipulation\n",
    "import numpy as np\n",
    "import pandas as pd\n",
    "\n",
    "# Pytorch Imports\n",
    "import torch\n",
    "import torch.nn as nn\n",
    "import torch.optim as optim\n",
    "import torch.nn.functional as F\n",
    "from torch.optim import lr_scheduler\n",
    "from torch.utils.data import Dataset, DataLoader\n",
    "from torch.cuda import amp\n",
    "\n",
    "# Albumentations for augmentations\n",
    "import albumentations as A\n",
    "from albumentations.pytorch import ToTensorV2\n",
    "\n",
    "\n",
    "from sklearn.metrics import f1_score,roc_auc_score\n",
    "\n",
    "\n",
    "import timm\n",
    "from timm.models.efficientnet import *\n",
    "\n",
    "# Utils\n",
    "import joblib\n",
    "from tqdm import tqdm\n",
    "from collections import defaultdict\n",
    "\n",
    "\n",
    "import warnings\n",
    "warnings.filterwarnings(\"ignore\")\n",
    "\n",
    "from sklearn.metrics import f1_score\n",
    "import matplotlib.pyplot as plt\n",
    "import scipy\n",
    "from scipy import ndimage\n",
    "\n",
    "import glob"
   ]
  },
  {
   "cell_type": "code",
   "execution_count": 2,
   "id": "c65c7619",
   "metadata": {},
   "outputs": [],
   "source": [
    "test_ct_all_list=list(glob.glob(\"/ssd8/2023COVID19/Train_Valid_dataset/test_crop/*/*\")) "
   ]
  },
  {
   "cell_type": "code",
   "execution_count": 3,
   "id": "577e8132",
   "metadata": {},
   "outputs": [
    {
     "data": {
      "text/plain": [
       "785605"
      ]
     },
     "execution_count": 3,
     "metadata": {},
     "output_type": "execute_result"
    }
   ],
   "source": [
    "len(test_ct_all_list)"
   ]
  },
  {
   "cell_type": "code",
   "execution_count": 4,
   "id": "c68954e3",
   "metadata": {},
   "outputs": [
    {
     "name": "stderr",
     "output_type": "stream",
     "text": [
      "100%|██████████| 785605/785605 [4:57:38<00:00, 43.99it/s]    \n"
     ]
    }
   ],
   "source": [
    "test_area=[]\n",
    "for path in tqdm(test_ct_all_list):\n",
    "    img = cv2.imread(path)\n",
    "    img2=ndimage.minimum_filter(img,5)\n",
    "    img_b=np.where(img2<100,0,255)\n",
    "    mask=scipy.ndimage.binary_fill_holes(img_b[:,:,0])\n",
    "    mask_=mask*255\n",
    "    aaa=mask_-img_b[:,:,0]\n",
    "    test_area.append(aaa.sum()/255)"
   ]
  },
  {
   "cell_type": "code",
   "execution_count": 5,
   "id": "8f886e13",
   "metadata": {},
   "outputs": [],
   "source": [
    "test_area_df=pd.DataFrame((zip(test_ct_all_list, test_area)), columns = ['path', 'area'])"
   ]
  },
  {
   "cell_type": "code",
   "execution_count": 6,
   "id": "2d32bc7c",
   "metadata": {},
   "outputs": [
    {
     "data": {
      "text/html": [
       "<div>\n",
       "<style scoped>\n",
       "    .dataframe tbody tr th:only-of-type {\n",
       "        vertical-align: middle;\n",
       "    }\n",
       "\n",
       "    .dataframe tbody tr th {\n",
       "        vertical-align: top;\n",
       "    }\n",
       "\n",
       "    .dataframe thead th {\n",
       "        text-align: right;\n",
       "    }\n",
       "</style>\n",
       "<table border=\"1\" class=\"dataframe\">\n",
       "  <thead>\n",
       "    <tr style=\"text-align: right;\">\n",
       "      <th></th>\n",
       "      <th>path</th>\n",
       "      <th>area</th>\n",
       "    </tr>\n",
       "  </thead>\n",
       "  <tbody>\n",
       "    <tr>\n",
       "      <th>0</th>\n",
       "      <td>/ssd8/2023COVID19/Train_Valid_dataset/test_cro...</td>\n",
       "      <td>36700.0</td>\n",
       "    </tr>\n",
       "    <tr>\n",
       "      <th>1</th>\n",
       "      <td>/ssd8/2023COVID19/Train_Valid_dataset/test_cro...</td>\n",
       "      <td>313.0</td>\n",
       "    </tr>\n",
       "    <tr>\n",
       "      <th>2</th>\n",
       "      <td>/ssd8/2023COVID19/Train_Valid_dataset/test_cro...</td>\n",
       "      <td>33961.0</td>\n",
       "    </tr>\n",
       "    <tr>\n",
       "      <th>3</th>\n",
       "      <td>/ssd8/2023COVID19/Train_Valid_dataset/test_cro...</td>\n",
       "      <td>22438.0</td>\n",
       "    </tr>\n",
       "    <tr>\n",
       "      <th>4</th>\n",
       "      <td>/ssd8/2023COVID19/Train_Valid_dataset/test_cro...</td>\n",
       "      <td>22742.0</td>\n",
       "    </tr>\n",
       "    <tr>\n",
       "      <th>...</th>\n",
       "      <td>...</td>\n",
       "      <td>...</td>\n",
       "    </tr>\n",
       "    <tr>\n",
       "      <th>785600</th>\n",
       "      <td>/ssd8/2023COVID19/Train_Valid_dataset/test_cro...</td>\n",
       "      <td>1185.0</td>\n",
       "    </tr>\n",
       "    <tr>\n",
       "      <th>785601</th>\n",
       "      <td>/ssd8/2023COVID19/Train_Valid_dataset/test_cro...</td>\n",
       "      <td>37777.0</td>\n",
       "    </tr>\n",
       "    <tr>\n",
       "      <th>785602</th>\n",
       "      <td>/ssd8/2023COVID19/Train_Valid_dataset/test_cro...</td>\n",
       "      <td>40605.0</td>\n",
       "    </tr>\n",
       "    <tr>\n",
       "      <th>785603</th>\n",
       "      <td>/ssd8/2023COVID19/Train_Valid_dataset/test_cro...</td>\n",
       "      <td>3479.0</td>\n",
       "    </tr>\n",
       "    <tr>\n",
       "      <th>785604</th>\n",
       "      <td>/ssd8/2023COVID19/Train_Valid_dataset/test_cro...</td>\n",
       "      <td>9888.0</td>\n",
       "    </tr>\n",
       "  </tbody>\n",
       "</table>\n",
       "<p>785605 rows × 2 columns</p>\n",
       "</div>"
      ],
      "text/plain": [
       "                                                     path     area\n",
       "0       /ssd8/2023COVID19/Train_Valid_dataset/test_cro...  36700.0\n",
       "1       /ssd8/2023COVID19/Train_Valid_dataset/test_cro...    313.0\n",
       "2       /ssd8/2023COVID19/Train_Valid_dataset/test_cro...  33961.0\n",
       "3       /ssd8/2023COVID19/Train_Valid_dataset/test_cro...  22438.0\n",
       "4       /ssd8/2023COVID19/Train_Valid_dataset/test_cro...  22742.0\n",
       "...                                                   ...      ...\n",
       "785600  /ssd8/2023COVID19/Train_Valid_dataset/test_cro...   1185.0\n",
       "785601  /ssd8/2023COVID19/Train_Valid_dataset/test_cro...  37777.0\n",
       "785602  /ssd8/2023COVID19/Train_Valid_dataset/test_cro...  40605.0\n",
       "785603  /ssd8/2023COVID19/Train_Valid_dataset/test_cro...   3479.0\n",
       "785604  /ssd8/2023COVID19/Train_Valid_dataset/test_cro...   9888.0\n",
       "\n",
       "[785605 rows x 2 columns]"
      ]
     },
     "execution_count": 6,
     "metadata": {},
     "output_type": "execute_result"
    }
   ],
   "source": [
    "test_area_df"
   ]
  },
  {
   "cell_type": "code",
   "execution_count": 7,
   "id": "074d560d",
   "metadata": {},
   "outputs": [],
   "source": [
    "test_area_df.to_csv(\"/ssd8/2023COVID19/Train_Valid_dataset/test_area_df.csv\",index=False)"
   ]
  },
  {
   "cell_type": "code",
   "execution_count": 8,
   "id": "333e9ea8",
   "metadata": {},
   "outputs": [],
   "source": [
    "test_area_df[\"ct_path\"]=test_area_df[\"path\"].apply(lambda x: \"/\".join(x.split(\"/\")[:-1]))\n",
    "test_area_df[\"ct_slice\"]=test_area_df[\"path\"].apply(lambda x: int(x.split(\"/\")[-1].split(\".\")[0]))"
   ]
  },
  {
   "cell_type": "code",
   "execution_count": 9,
   "id": "a139c29f",
   "metadata": {},
   "outputs": [],
   "source": [
    "test_area_df.sort_values(by=['ct_path', 'ct_slice'], inplace=True)"
   ]
  },
  {
   "cell_type": "code",
   "execution_count": 10,
   "id": "c268e792",
   "metadata": {},
   "outputs": [],
   "source": [
    "test_area_df=test_area_df.reset_index(drop=True)"
   ]
  },
  {
   "cell_type": "code",
   "execution_count": 12,
   "id": "4e9ceee4",
   "metadata": {},
   "outputs": [
    {
     "data": {
      "text/html": [
       "<div>\n",
       "<style scoped>\n",
       "    .dataframe tbody tr th:only-of-type {\n",
       "        vertical-align: middle;\n",
       "    }\n",
       "\n",
       "    .dataframe tbody tr th {\n",
       "        vertical-align: top;\n",
       "    }\n",
       "\n",
       "    .dataframe thead th {\n",
       "        text-align: right;\n",
       "    }\n",
       "</style>\n",
       "<table border=\"1\" class=\"dataframe\">\n",
       "  <thead>\n",
       "    <tr style=\"text-align: right;\">\n",
       "      <th></th>\n",
       "      <th>path</th>\n",
       "      <th>area</th>\n",
       "      <th>ct_path</th>\n",
       "      <th>ct_slice</th>\n",
       "    </tr>\n",
       "  </thead>\n",
       "  <tbody>\n",
       "    <tr>\n",
       "      <th>0</th>\n",
       "      <td>/ssd8/2023COVID19/Train_Valid_dataset/test_cro...</td>\n",
       "      <td>366.0</td>\n",
       "      <td>/ssd8/2023COVID19/Train_Valid_dataset/test_cro...</td>\n",
       "      <td>0</td>\n",
       "    </tr>\n",
       "    <tr>\n",
       "      <th>1</th>\n",
       "      <td>/ssd8/2023COVID19/Train_Valid_dataset/test_cro...</td>\n",
       "      <td>366.0</td>\n",
       "      <td>/ssd8/2023COVID19/Train_Valid_dataset/test_cro...</td>\n",
       "      <td>1</td>\n",
       "    </tr>\n",
       "    <tr>\n",
       "      <th>2</th>\n",
       "      <td>/ssd8/2023COVID19/Train_Valid_dataset/test_cro...</td>\n",
       "      <td>572.0</td>\n",
       "      <td>/ssd8/2023COVID19/Train_Valid_dataset/test_cro...</td>\n",
       "      <td>2</td>\n",
       "    </tr>\n",
       "    <tr>\n",
       "      <th>3</th>\n",
       "      <td>/ssd8/2023COVID19/Train_Valid_dataset/test_cro...</td>\n",
       "      <td>533.0</td>\n",
       "      <td>/ssd8/2023COVID19/Train_Valid_dataset/test_cro...</td>\n",
       "      <td>3</td>\n",
       "    </tr>\n",
       "    <tr>\n",
       "      <th>4</th>\n",
       "      <td>/ssd8/2023COVID19/Train_Valid_dataset/test_cro...</td>\n",
       "      <td>1324.0</td>\n",
       "      <td>/ssd8/2023COVID19/Train_Valid_dataset/test_cro...</td>\n",
       "      <td>4</td>\n",
       "    </tr>\n",
       "    <tr>\n",
       "      <th>...</th>\n",
       "      <td>...</td>\n",
       "      <td>...</td>\n",
       "      <td>...</td>\n",
       "      <td>...</td>\n",
       "    </tr>\n",
       "    <tr>\n",
       "      <th>785600</th>\n",
       "      <td>/ssd8/2023COVID19/Train_Valid_dataset/test_cro...</td>\n",
       "      <td>2155.0</td>\n",
       "      <td>/ssd8/2023COVID19/Train_Valid_dataset/test_cro...</td>\n",
       "      <td>367</td>\n",
       "    </tr>\n",
       "    <tr>\n",
       "      <th>785601</th>\n",
       "      <td>/ssd8/2023COVID19/Train_Valid_dataset/test_cro...</td>\n",
       "      <td>2339.0</td>\n",
       "      <td>/ssd8/2023COVID19/Train_Valid_dataset/test_cro...</td>\n",
       "      <td>368</td>\n",
       "    </tr>\n",
       "    <tr>\n",
       "      <th>785602</th>\n",
       "      <td>/ssd8/2023COVID19/Train_Valid_dataset/test_cro...</td>\n",
       "      <td>2407.0</td>\n",
       "      <td>/ssd8/2023COVID19/Train_Valid_dataset/test_cro...</td>\n",
       "      <td>369</td>\n",
       "    </tr>\n",
       "    <tr>\n",
       "      <th>785603</th>\n",
       "      <td>/ssd8/2023COVID19/Train_Valid_dataset/test_cro...</td>\n",
       "      <td>2342.0</td>\n",
       "      <td>/ssd8/2023COVID19/Train_Valid_dataset/test_cro...</td>\n",
       "      <td>370</td>\n",
       "    </tr>\n",
       "    <tr>\n",
       "      <th>785604</th>\n",
       "      <td>/ssd8/2023COVID19/Train_Valid_dataset/test_cro...</td>\n",
       "      <td>2367.0</td>\n",
       "      <td>/ssd8/2023COVID19/Train_Valid_dataset/test_cro...</td>\n",
       "      <td>371</td>\n",
       "    </tr>\n",
       "  </tbody>\n",
       "</table>\n",
       "<p>785605 rows × 4 columns</p>\n",
       "</div>"
      ],
      "text/plain": [
       "                                                     path    area  \\\n",
       "0       /ssd8/2023COVID19/Train_Valid_dataset/test_cro...   366.0   \n",
       "1       /ssd8/2023COVID19/Train_Valid_dataset/test_cro...   366.0   \n",
       "2       /ssd8/2023COVID19/Train_Valid_dataset/test_cro...   572.0   \n",
       "3       /ssd8/2023COVID19/Train_Valid_dataset/test_cro...   533.0   \n",
       "4       /ssd8/2023COVID19/Train_Valid_dataset/test_cro...  1324.0   \n",
       "...                                                   ...     ...   \n",
       "785600  /ssd8/2023COVID19/Train_Valid_dataset/test_cro...  2155.0   \n",
       "785601  /ssd8/2023COVID19/Train_Valid_dataset/test_cro...  2339.0   \n",
       "785602  /ssd8/2023COVID19/Train_Valid_dataset/test_cro...  2407.0   \n",
       "785603  /ssd8/2023COVID19/Train_Valid_dataset/test_cro...  2342.0   \n",
       "785604  /ssd8/2023COVID19/Train_Valid_dataset/test_cro...  2367.0   \n",
       "\n",
       "                                                  ct_path  ct_slice  \n",
       "0       /ssd8/2023COVID19/Train_Valid_dataset/test_cro...         0  \n",
       "1       /ssd8/2023COVID19/Train_Valid_dataset/test_cro...         1  \n",
       "2       /ssd8/2023COVID19/Train_Valid_dataset/test_cro...         2  \n",
       "3       /ssd8/2023COVID19/Train_Valid_dataset/test_cro...         3  \n",
       "4       /ssd8/2023COVID19/Train_Valid_dataset/test_cro...         4  \n",
       "...                                                   ...       ...  \n",
       "785600  /ssd8/2023COVID19/Train_Valid_dataset/test_cro...       367  \n",
       "785601  /ssd8/2023COVID19/Train_Valid_dataset/test_cro...       368  \n",
       "785602  /ssd8/2023COVID19/Train_Valid_dataset/test_cro...       369  \n",
       "785603  /ssd8/2023COVID19/Train_Valid_dataset/test_cro...       370  \n",
       "785604  /ssd8/2023COVID19/Train_Valid_dataset/test_cro...       371  \n",
       "\n",
       "[785605 rows x 4 columns]"
      ]
     },
     "execution_count": 12,
     "metadata": {},
     "output_type": "execute_result"
    }
   ],
   "source": [
    "test_area_df"
   ]
  },
  {
   "cell_type": "code",
   "execution_count": 13,
   "id": "e3fad4e0",
   "metadata": {},
   "outputs": [],
   "source": [
    "def sum_max(a,w=0.4):\n",
    "    l=len(a)\n",
    "    k=int(np.ceil(l*w))\n",
    "    d=0\n",
    "    tmp_max=0\n",
    "    for i in range(l-k+1):\n",
    "        if np.sum(a[i:i+k])>tmp_max:\n",
    "            tmp_max=np.sum(a[i:i+k])\n",
    "            d=i\n",
    "    return d,d+k"
   ]
  },
  {
   "cell_type": "code",
   "execution_count": 14,
   "id": "35d801f2",
   "metadata": {},
   "outputs": [],
   "source": [
    "ct_path_list=test_area_df[\"ct_path\"].unique()"
   ]
  },
  {
   "cell_type": "code",
   "execution_count": 15,
   "id": "4b936804",
   "metadata": {},
   "outputs": [
    {
     "name": "stderr",
     "output_type": "stream",
     "text": [
      "100%|██████████| 4308/4308 [07:00<00:00, 10.24it/s]\n"
     ]
    }
   ],
   "source": [
    "test_dic={}\n",
    "for i in tqdm(range(len(ct_path_list))):\n",
    "    tmp_df=test_area_df[test_area_df[\"ct_path\"]==ct_path_list[i]].reset_index(drop=True)\n",
    "    test_dic[ct_path_list[i]]=list(sum_max(tmp_df[\"area\"].values,0.5))"
   ]
  },
  {
   "cell_type": "code",
   "execution_count": 16,
   "id": "1c57b6c2",
   "metadata": {},
   "outputs": [],
   "source": [
    "import pickle\n",
    "with open('/ssd8/2023COVID19/Train_Valid_dataset/test_dic1_05.pickle', 'wb') as handle:\n",
    "    pickle.dump(test_dic, handle, protocol=pickle.HIGHEST_PROTOCOL)"
   ]
  },
  {
   "cell_type": "code",
   "execution_count": 16,
   "id": "1ca3aa45",
   "metadata": {},
   "outputs": [],
   "source": [
    "# ct_path_list=test_area_df[\"ct_path\"].unique()\n",
    "# for i in range(100):\n",
    "    \n",
    "#     tmp_df=test_area_df[test_area_df[\"ct_path\"]==ct_path_list[i]].reset_index(drop=True)\n",
    "#     a,b=test_dic[ct_path_list[i]]\n",
    "#     print(ct_path_list[i])\n",
    "#     plt.plot(tmp_df[\"area\"])\n",
    "#     plt.plot(tmp_df[\"area\"][a:b])\n",
    "#     print(a,b)\n",
    "#     plt.show()"
   ]
  },
  {
   "cell_type": "code",
   "execution_count": null,
   "id": "3dfa8a27",
   "metadata": {},
   "outputs": [],
   "source": []
  }
 ],
 "metadata": {
  "kernelspec": {
   "display_name": "covid2023",
   "language": "python",
   "name": "python3"
  },
  "language_info": {
   "codemirror_mode": {
    "name": "ipython",
    "version": 3
   },
   "file_extension": ".py",
   "mimetype": "text/x-python",
   "name": "python",
   "nbconvert_exporter": "python",
   "pygments_lexer": "ipython3",
   "version": "3.8.16"
  },
  "vscode": {
   "interpreter": {
    "hash": "35e4eaf7fc1241741242c84999f2000af8b451353219079a4e5df2fc9b8f3715"
   }
  }
 },
 "nbformat": 4,
 "nbformat_minor": 5
}
