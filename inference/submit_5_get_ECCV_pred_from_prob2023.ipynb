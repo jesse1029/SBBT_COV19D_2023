{
 "cells": [
  {
   "cell_type": "code",
   "execution_count": 1,
   "id": "a492b38f",
   "metadata": {},
   "outputs": [],
   "source": [
    "import numpy as np\n",
    "import pandas as pd\n",
    "import os"
   ]
  },
  {
   "cell_type": "code",
   "execution_count": 2,
   "id": "d7389318",
   "metadata": {},
   "outputs": [],
   "source": [
    "# /ssd8/ming/covid_challenge/output/cnn_10_total_pred_df.csv #ECA-NFNET\n",
    "\n",
    "eff_mix_conv_E = pd.read_csv('./csv_pickle/1d_2d_cnn_weight_from_sz384_144server/eff_conv_mix_E_384_check01.csv')\n",
    "eff_mix_conv_S = pd.read_csv('./csv_pickle/1d_2d_cnn_weight_from_sz384_144server/eff_conv_mix_S_384_check01.csv')\n",
    "ECA_NFnet_CV = pd.read_csv('/ssd8/ming/covid_challenge/output/cnn_10_total_pred_df.csv')\n",
    "# submit1 = eff-mix-conv-E [0.5]\n",
    "# submit2 = eff-mix-conv-S [0.5]\n",
    "# submit3 = ECA-NFnet CV   [0.5]\n",
    "# submit4 = eff-mix-conv-E + eff-mix-conv-S + ECA-NFnet CV [0.5]\n",
    "# submit5 = eff-mix-conv-E + eff-mix-conv-S + ECA-NFnet CV [0.522]"
   ]
  },
  {
   "cell_type": "code",
   "execution_count": 17,
   "id": "5e717981",
   "metadata": {},
   "outputs": [],
   "source": [
    "ECA_NFnet_CV = ECA_NFnet_CV[['path','total_pred']]\n",
    "new_path =[]\n",
    "for i in ECA_NFnet_CV.path.values:\n",
    "    path_ = i.split('/')[-1]\n",
    "    new_path.append(path_)\n",
    "ECA_NFnet_CV['path'] = new_path\n",
    "ECA_NFnet_CV = ECA_NFnet_CV.sort_values('path').rename(columns={\"path\":\"name\",\"total_pred\":\"pred\"})\n",
    "eff_mix_conv_S = eff_mix_conv_S.sort_values('CT_name').rename(columns={\"CT_name\":\"name\"})\n",
    "eff_mix_conv_E = eff_mix_conv_E.sort_values('CT_name').rename(columns={\"CT_name\":\"name\"})"
   ]
  },
  {
   "cell_type": "code",
   "execution_count": 23,
   "id": "dd82c1ed",
   "metadata": {},
   "outputs": [
    {
     "name": "stdout",
     "output_type": "stream",
     "text": [
      "covid: 608   non_covid: 3700\n"
     ]
    }
   ],
   "source": [
    "file=\"Submission1\"\n",
    "use_df=ECA_NFnet_CV\n",
    "folder_path=\"covid_pred\"+\"/\"+file\n",
    "if not os.path.exists(folder_path):\n",
    "    os.makedirs(folder_path)\n",
    "use_df[\"name\"]=use_df[\"name\"].apply(lambda x : x.split(\"/\")[-1])\n",
    "covid_ct=use_df[use_df[\"pred\"]>0.5].name.values\n",
    "non_covid_ct=use_df[use_df[\"pred\"]<0.5].name.values\n",
    "\n",
    "covid_df=pd.DataFrame(covid_ct,columns=[\"ct_name\"])\n",
    "non_covid_df=pd.DataFrame(non_covid_ct,columns=[\"ct_name\"])\n",
    "covid_df.sort_values(by=['ct_name'],inplace=True)\n",
    "non_covid_df.sort_values(by=['ct_name'],inplace=True)\n",
    "\n",
    "covid_df.to_csv(f\"{folder_path}/covid.csv\",header=False,index=False)\n",
    "non_covid_df.to_csv(f\"{folder_path}/non-covid.csv\",header=False,index=False)\n",
    "print(\"covid:\",len(covid_df) , \"  non_covid:\",len(non_covid_df))\n",
    "    "
   ]
  },
  {
   "cell_type": "code",
   "execution_count": 24,
   "id": "f7e3d322",
   "metadata": {},
   "outputs": [
    {
     "name": "stdout",
     "output_type": "stream",
     "text": [
      "covid: 686   non_covid: 3622\n"
     ]
    }
   ],
   "source": [
    "file=\"Submission2\"\n",
    "use_df=eff_mix_conv_S\n",
    "folder_path=\"covid_pred\"+\"/\"+file\n",
    "if not os.path.exists(folder_path):\n",
    "    os.makedirs(folder_path)\n",
    "use_df[\"name\"]=use_df[\"name\"].apply(lambda x : x.split(\"/\")[-1])\n",
    "covid_ct=use_df[use_df[\"pred\"]>0.5].name.values\n",
    "non_covid_ct=use_df[use_df[\"pred\"]<0.5].name.values\n",
    "\n",
    "covid_df=pd.DataFrame(covid_ct,columns=[\"ct_name\"])\n",
    "non_covid_df=pd.DataFrame(non_covid_ct,columns=[\"ct_name\"])\n",
    "covid_df.sort_values(by=['ct_name'],inplace=True)\n",
    "non_covid_df.sort_values(by=['ct_name'],inplace=True)\n",
    "\n",
    "covid_df.to_csv(f\"{folder_path}/covid.csv\",header=False,index=False)\n",
    "non_covid_df.to_csv(f\"{folder_path}/non-covid.csv\",header=False,index=False)\n",
    "print(\"covid:\",len(covid_df) , \"  non_covid:\",len(non_covid_df))\n",
    "    "
   ]
  },
  {
   "cell_type": "code",
   "execution_count": 25,
   "id": "4bd1af2b",
   "metadata": {},
   "outputs": [
    {
     "name": "stdout",
     "output_type": "stream",
     "text": [
      "covid: 823   non_covid: 3485\n"
     ]
    }
   ],
   "source": [
    "file=\"Submission3\"\n",
    "use_df=eff_mix_conv_E\n",
    "folder_path=\"covid_pred\"+\"/\"+file\n",
    "if not os.path.exists(folder_path):\n",
    "    os.makedirs(folder_path)\n",
    "\n",
    "covid_ct=use_df[use_df[\"pred\"]>0.5].name.values\n",
    "non_covid_ct=use_df[use_df[\"pred\"]<0.5].name.values\n",
    "\n",
    "covid_df=pd.DataFrame(covid_ct,columns=[\"ct_name\"])\n",
    "non_covid_df=pd.DataFrame(non_covid_ct,columns=[\"ct_name\"])\n",
    "covid_df.sort_values(by=['ct_name'],inplace=True)\n",
    "non_covid_df.sort_values(by=['ct_name'],inplace=True)\n",
    "\n",
    "covid_df.to_csv(f\"{folder_path}/covid.csv\",header=False,index=False)\n",
    "non_covid_df.to_csv(f\"{folder_path}/non-covid.csv\",header=False,index=False)\n",
    "print(\"covid:\",len(covid_df) , \"  non_covid:\",len(non_covid_df))"
   ]
  },
  {
   "cell_type": "code",
   "execution_count": null,
   "id": "932dbdd8",
   "metadata": {},
   "outputs": [],
   "source": [
    "# ECA_NFnet_CV = ECA_NFnet_CV.sort_values('path').rename(columns={\"path\":\"name\",\"total_pred\":\"pred\"})\n",
    "# eff_mix_conv_S = eff_mix_conv_S.sort_values('CT_name').rename(columns={\"CT_name\":\"name\"})\n",
    "# eff_mix_conv_E = eff_mix_conv_E.sort_values('CT_name').rename(columns={\"CT_name\":\"name\"})"
   ]
  },
  {
   "cell_type": "code",
   "execution_count": 28,
   "id": "6bda6716",
   "metadata": {},
   "outputs": [
    {
     "name": "stdout",
     "output_type": "stream",
     "text": [
      "covid: 681   non_covid: 3627\n"
     ]
    }
   ],
   "source": [
    "file=\"Submission4\"\n",
    "df_total=ECA_NFnet_CV.merge(eff_mix_conv_S[[\"name\",\"pred\"]], on='name')\n",
    "df_total=df_total.merge(eff_mix_conv_E[[\"name\",\"pred\"]], on='name')\n",
    "df_total[\"total_pred\"]=(df_total.iloc[:,1].values+df_total.iloc[:,2].values+df_total.iloc[:,3].values)/3\n",
    "\n",
    "use_df=df_total\n",
    "folder_path=\"covid_pred\"+\"/\"+file\n",
    "if not os.path.exists(folder_path):\n",
    "    os.makedirs(folder_path)\n",
    "\n",
    "covid_ct=use_df[use_df[\"total_pred\"]>0.5].name.values\n",
    "non_covid_ct=use_df[use_df[\"total_pred\"]<0.5].name.values\n",
    "\n",
    "covid_df=pd.DataFrame(covid_ct,columns=[\"ct_name\"])\n",
    "\n",
    "non_covid_df=pd.DataFrame(non_covid_ct,columns=[\"ct_name\"])\n",
    "covid_df.sort_values(by=['ct_name'],inplace=True)\n",
    "non_covid_df.sort_values(by=['ct_name'],inplace=True)\n",
    "\n",
    "covid_df.to_csv(f\"{folder_path}/covid.csv\",header=False,index=False)\n",
    "non_covid_df.to_csv(f\"{folder_path}/non-covid.csv\",header=False,index=False)\n",
    "print(\"covid:\",len(covid_df) , \"  non_covid:\",len(non_covid_df))"
   ]
  },
  {
   "cell_type": "code",
   "execution_count": 27,
   "id": "53bf5961",
   "metadata": {},
   "outputs": [
    {
     "name": "stdout",
     "output_type": "stream",
     "text": [
      "covid: 668   non_covid: 3640\n"
     ]
    }
   ],
   "source": [
    "file=\"Submission5\"\n",
    "df_total=ECA_NFnet_CV.merge(eff_mix_conv_S[[\"name\",\"pred\"]], on='name')\n",
    "df_total=df_total.merge(eff_mix_conv_E[[\"name\",\"pred\"]], on='name')\n",
    "df_total[\"total_pred\"]=(df_total.iloc[:,1].values+df_total.iloc[:,2].values+df_total.iloc[:,3].values)/3\n",
    "\n",
    "use_df=df_total\n",
    "folder_path=\"covid_pred\"+\"/\"+file\n",
    "if not os.path.exists(folder_path):\n",
    "    os.makedirs(folder_path)\n",
    "\n",
    "covid_ct=use_df[use_df[\"total_pred\"]>0.522].name.values\n",
    "non_covid_ct=use_df[use_df[\"total_pred\"]<0.522].name.values\n",
    "\n",
    "covid_df=pd.DataFrame(covid_ct,columns=[\"ct_name\"])\n",
    "\n",
    "non_covid_df=pd.DataFrame(non_covid_ct,columns=[\"ct_name\"])\n",
    "covid_df.sort_values(by=['ct_name'],inplace=True)\n",
    "non_covid_df.sort_values(by=['ct_name'],inplace=True)\n",
    "\n",
    "covid_df.to_csv(f\"{folder_path}/covid.csv\",header=False,index=False)\n",
    "non_covid_df.to_csv(f\"{folder_path}/non-covid.csv\",header=False,index=False)\n",
    "print(\"covid:\",len(covid_df) , \"  non_covid:\",len(non_covid_df))"
   ]
  },
  {
   "cell_type": "code",
   "execution_count": null,
   "id": "e509875e",
   "metadata": {},
   "outputs": [],
   "source": []
  }
 ],
 "metadata": {
  "kernelspec": {
   "display_name": "covid2023",
   "language": "python",
   "name": "python3"
  },
  "language_info": {
   "codemirror_mode": {
    "name": "ipython",
    "version": 3
   },
   "file_extension": ".py",
   "mimetype": "text/x-python",
   "name": "python",
   "nbconvert_exporter": "python",
   "pygments_lexer": "ipython3",
   "version": "3.8.16"
  },
  "vscode": {
   "interpreter": {
    "hash": "35e4eaf7fc1241741242c84999f2000af8b451353219079a4e5df2fc9b8f3715"
   }
  }
 },
 "nbformat": 4,
 "nbformat_minor": 5
}
