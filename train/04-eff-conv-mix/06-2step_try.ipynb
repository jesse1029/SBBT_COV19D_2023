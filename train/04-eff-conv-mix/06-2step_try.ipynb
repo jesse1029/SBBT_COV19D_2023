{
 "cells": [
  {
   "cell_type": "code",
   "execution_count": 1,
   "metadata": {},
   "outputs": [],
   "source": [
    "import os, pandas as pd, numpy as np, random,gc\n",
    "import copy, cv2\n",
    "pd.options.mode.chained_assignment = None\n",
    "import torch, torch.nn as nn\n",
    "import timm\n",
    "from torch.utils.data import Dataset, DataLoader\n",
    "from tqdm import tqdm\n",
    "from transformers import AdamW\n",
    "from transformers import get_cosine_schedule_with_warmup\n",
    "from sklearn.metrics import f1_score,roc_auc_score\n",
    "from sklearn.metrics import accuracy_score, confusion_matrix"
   ]
  },
  {
   "cell_type": "code",
   "execution_count": 2,
   "metadata": {},
   "outputs": [],
   "source": [
    "def set_seed(seed=42):\n",
    "    random.seed(seed)\n",
    "    os.environ[\"PYTHONHASHSEED\"] = str(seed)\n",
    "    np.random.seed(seed)\n",
    "    torch.manual_seed(seed)\n",
    "    torch.cuda.manual_seed(seed)\n",
    "    torch.cuda.manual_seed_all(seed)\n",
    "    torch.backends.cudnn.deterministic = True\n",
    "    torch.backends.cudnn.benchmark = False"
   ]
  },
  {
   "cell_type": "code",
   "execution_count": 3,
   "metadata": {},
   "outputs": [],
   "source": [
    "# # fix path\n",
    "# df_224_3d = pd.read_csv(\"./csv_pickle/df_224_embed.csv\")\n",
    "# ct_path_stack = []\n",
    "# for old_path in df_224_3d['ct_path'].tolist():\n",
    "#     old_ = '/ssd2/COVID2023_data_embed_npy/'\n",
    "#     new_ = '/ssd8/2023COVID19/2023_covid/COVID2023_data_embed_npy/'\n",
    "#     new_path = old_path.replace(old_, new_)\n",
    "#     ct_path_stack.append(new_path)\n",
    "# df_224_3d['ct_path'] = ct_path_stack\n",
    "# df_224_3d.to_csv(\"./csv_pickle/df_224_embed_146server.csv\", index=False, encoding='utf-8-sig')"
   ]
  },
  {
   "cell_type": "code",
   "execution_count": 4,
   "metadata": {},
   "outputs": [],
   "source": [
    "# 修改init讀取全部embed的方法（記憶體無法負擔所有npy資料），改以呼叫index階段時再進行讀取\n",
    "class COVID_Dataset(torch.utils.data.Dataset):\n",
    "    def __init__(self, csv_path, data_split, ct_len_s=50 , transform = None):\n",
    "        if data_split == 'test':\n",
    "            dataset = pd.read_pickle(csv_path)\n",
    "            self.embed_info = dataset\n",
    "            classes = [999]\n",
    "            classes = sorted(list(classes))\n",
    "            class_to_idx = {classes[i]: i for i in range(len(classes))}\n",
    "            ct_path = np.unique(dataset.iloc[:, 2])\n",
    "            imgs = []\n",
    "            for i_scan_dir in tqdm(ct_path):\n",
    "                temp_df = dataset[dataset['ct_path'] == i_scan_dir]\n",
    "                imgs.append((i_scan_dir, 999))\n",
    "            \n",
    "        elif data_split == 'train' or 'valid': \n",
    "            df = pd.read_csv(csv_path)\n",
    "            # df['embed'] = self.load_npy(df.ct_path.values.tolist(), df.embed.values.tolist())\n",
    "            dataset = df[df['split'] == data_split]\n",
    "            self.embed_info = dataset\n",
    "            \n",
    "            classes = set(dataset['label'])\n",
    "            classes = sorted(list(classes))\n",
    "            class_to_idx = {classes[i]: i for i in range(len(classes))}\n",
    "            \n",
    "            ct_path = np.unique(dataset.iloc[:, 4])\n",
    "            imgs = []\n",
    "            for i_scan_dir in ct_path:\n",
    "                temp_df = dataset[dataset['ct_path'] == i_scan_dir]\n",
    "                imgs.append((i_scan_dir, temp_df.iloc[0, 3]))\n",
    "        self.classes = classes\n",
    "        self.class_to_idx = class_to_idx\n",
    "        self.ct_len_s = ct_len_s\n",
    "        self.imgs = imgs\n",
    "        self.transform = transform\n",
    "    def load_npy(self, npy_path, npy_file):\n",
    "        new_npy_embed = []\n",
    "        for path_, file_ in zip(npy_path, npy_file):\n",
    "            new_npy_embed.append(np.load(os.path.join(path_, file_)))\n",
    "        return new_npy_embed\n",
    "    def __getitem__(self, index):\n",
    "        img_scan_dir, label = self.imgs[index]\n",
    "        \n",
    "        label = self.class_to_idx[label]\n",
    "        temp_df = self.embed_info[self.embed_info['ct_path'] == img_scan_dir]\n",
    "        temp_df['embed'] = self.load_npy(temp_df['ct_path'].values.tolist(), temp_df['embed'].values.tolist())\n",
    "        random.seed(4019)\n",
    "        if len(temp_df) >= self.ct_len_s:\n",
    "            temp_index = [x for x in range(len(temp_df))]\n",
    "            target_index = random.sample(temp_index, k = self.ct_len_s)\n",
    "            \n",
    "        elif len(temp_df) < self.ct_len_s:\n",
    "            target_index = [x for x in range(len(temp_df))]\n",
    "            temp = random.choices(target_index, k = self.ct_len_s - len(target_index))\n",
    "            target_index += temp\n",
    "        \n",
    "        target_index.sort()\n",
    "        embed = temp_df.iloc[target_index, 1]\n",
    "        img = []\n",
    "        for i_embed in embed:\n",
    "            img.append(i_embed)\n",
    "        # img = np.expand_dims(np.array(img).reshape((1536, 8*8*self.ct_len_s)), axis=0)\n",
    "        img = np.array(img)\n",
    "        if len(img.shape)==4:\n",
    "            img = np.array(img).reshape((1536, 8*8*self.ct_len_s))\n",
    "        # else:\n",
    "        #     img = img.reshape((img.shape[1],img.shape[0]))\n",
    "        # img = np.concatenate([img,img,img], axis=0)\n",
    "        # print(img.shape)\n",
    "        return img, label\n",
    "\n",
    "    def __len__(self):\n",
    "        return len(self.imgs)"
   ]
  },
  {
   "cell_type": "code",
   "execution_count": 5,
   "metadata": {},
   "outputs": [],
   "source": [
    "import torch,os\n",
    "import torch.nn as nn\n",
    "import timm\n",
    "import torch.nn as nn\n",
    "class MyModel(nn.Module):\n",
    "    def __init__(self, ct_len=224, kernal_size = 3, pre_train=True):\n",
    "        super(MyModel, self).__init__()\n",
    "        self.conv1d = nn.Conv1d(in_channels=100, out_channels=CONFIG.ct_len_get, kernel_size=kernal_size)\n",
    "        # self.conv1d = nn.Conv1d(in_channels=224, out_channels=CONFIG.ct_len_get, kernel_size=kernal_size)\n",
    "        self.backbone = timm.create_model('resnet18', pretrained=pre_train, num_classes=1)\n",
    "    def forward(self, x):\n",
    "        \n",
    "        x = self.conv1d(x)\n",
    "        \n",
    "        x = torch.cat((x.unsqueeze(1), x.unsqueeze(1), x.unsqueeze(1)), dim=1)\n",
    "        \n",
    "        x = self.backbone(x)\n",
    "        return x"
   ]
  },
  {
   "cell_type": "code",
   "execution_count": 6,
   "metadata": {},
   "outputs": [],
   "source": [
    "def loss_fn(outputs, labels):\n",
    "    return nn.BCEWithLogitsLoss()(outputs, labels)\n",
    "\n",
    "def train_loop(model, optimizer, scheduler, loader):\n",
    "    losses, lrs = [], []\n",
    "    model.train()\n",
    "    optimizer.zero_grad()\n",
    "    for images, label in loader:\n",
    "        out = model(images.cuda())\n",
    "\n",
    "        loss = loss_fn(out.view(-1),label.cuda().float())\n",
    "        \n",
    "        losses.append(loss.item())\n",
    "        step_lr = np.array([param_group[\"lr\"] for param_group in optimizer.param_groups]).mean()\n",
    "        lrs.append(step_lr)\n",
    "        \n",
    "        loss.backward()\n",
    "        optimizer.step()\n",
    "        optimizer.zero_grad()\n",
    "        scheduler.step()\n",
    "\n",
    "    return np.array(losses).mean(), np.array(lrs).mean()\n",
    "\n",
    "\n",
    "def valid_loop(model, loader):\n",
    "    losses, predicts = [], []\n",
    "    true_y=[]\n",
    "    pred_y=[]\n",
    "    model.eval()\n",
    "    for images, label in loader:\n",
    "        with torch.no_grad():\n",
    "            images = images.cuda().float()\n",
    "            labels = label.cuda().float()\n",
    "            out = model(images)\n",
    "            loss = loss_fn(out.view(-1),labels)\n",
    "        losses.append(loss.item())\n",
    "        predicts.append(out.cpu())\n",
    "        true_y.append(labels.cpu().numpy())\n",
    "        pred_y.append(torch.sigmoid(out).cpu().numpy())\n",
    "        \n",
    "    true_y=np.concatenate(true_y)\n",
    "    pred_y=np.concatenate(pred_y)\n",
    "    \n",
    "    gc.collect()\n",
    "    \n",
    "    true_y=np.array(true_y).reshape(-1,1)\n",
    "    pred_y=np.array(pred_y).reshape(-1,1)\n",
    "   \n",
    "    acc_f1=f1_score(np.array(true_y),np.round(pred_y),average='macro')\n",
    "\n",
    "    auc_roc=roc_auc_score(np.array(true_y),np.array(pred_y))\n",
    "    print(\"acc_f1 : \",round(acc_f1,4),\"  auc_roc : \",round(auc_roc,4))\n",
    "    \n",
    "    return np.array(losses).mean(),acc_f1,auc_roc\n",
    "\n"
   ]
  },
  {
   "cell_type": "code",
   "execution_count": 7,
   "metadata": {},
   "outputs": [],
   "source": [
    "class CONFIG:\n",
    "    # model_path1 = \"/ssd8/2023COVID19/CT-COVID19-Classification/train_code_fix/output/f1_best_model_k1_convslice_check_from144weight[384].bin\"\n",
    "    model_path1 = \"/ssd8/2023COVID19/CT-COVID19-Classification/train_code_fix/output/f1_best_model_k1_convembed_check_from144weight[384].bin\"\n",
    "    # model_path1 = \"/ssd8/2023COVID19/CT-COVID19-Classification/train_code_fix/output/f1_best_model_k1_convembed_check_from144weight[256].bin\"\n",
    "    pre_train = False\n",
    "    N_EPOCHS = 100\n",
    "    train_batch_size = 32\n",
    "    valid_batch_size = 32\n",
    "    ct_len_get = 100 #100\n",
    "    kernal_size = 1 #1\n",
    "    SEDD =42\n",
    "    LR = 3e-5 #3e-5\n",
    "    WEIGHT_DECAY = 1e-3 #1e-3"
   ]
  },
  {
   "cell_type": "code",
   "execution_count": 8,
   "metadata": {},
   "outputs": [],
   "source": [
    "def main():\n",
    "    print(\"==========loading model==========\")\n",
    "    set_seed(seed=42)\n",
    "    model = MyModel(ct_len = CONFIG.ct_len_get, kernal_size=CONFIG.kernal_size, pre_train=CONFIG.pre_train).cuda()\n",
    "    optimizer = AdamW(model.parameters(), lr=CONFIG.LR, weight_decay=CONFIG.WEIGHT_DECAY)\n",
    "\n",
    "\n",
    "    df_path = './csv_pickle/df_224_embed_146server.csv'\n",
    "    # df_path = './csv_pickle/df_224_embed_sz_384_146server.csv'\n",
    "    print(\"==========data loader==========\")\n",
    "    train_ds = COVID_Dataset(csv_path = df_path, data_split = 'train', ct_len_s = CONFIG.ct_len_get, transform = None)\n",
    "    valid_ds = COVID_Dataset(csv_path = df_path,data_split = 'valid', ct_len_s = CONFIG.ct_len_get, transform = None)\n",
    "    \n",
    "    train_loader = DataLoader(train_ds, batch_size=CONFIG.train_batch_size, num_workers=15, shuffle=True, pin_memory=True)\n",
    "    valid_loader = DataLoader(valid_ds, batch_size=CONFIG.valid_batch_size, num_workers=15, shuffle=False, pin_memory=True)\n",
    "    image, label = next(iter(train_loader))\n",
    "    print(image.shape)\n",
    "\n",
    "    num_train_steps = int(len(train_loader) * CONFIG.N_EPOCHS)\n",
    "    num_warmup_steps = int(num_train_steps / 10)\n",
    "    scheduler = get_cosine_schedule_with_warmup(optimizer, num_warmup_steps=num_warmup_steps, num_training_steps=num_train_steps)\n",
    "\n",
    "    \n",
    "    print(\"==========start train==========\")\n",
    "    best_epoch_f1 = 0\n",
    "    for epoch in tqdm(range(CONFIG.N_EPOCHS)):\n",
    "        train_loss, lrs = train_loop(model, optimizer, scheduler, train_loader)\n",
    "        valid_loss,acc_f1,auc_roc = valid_loop(model, valid_loader)\n",
    "\n",
    "        if acc_f1 > best_epoch_f1:\n",
    "            print(f\"Validation f1 Improved ({best_epoch_f1} ---> {acc_f1})\")\n",
    "            best_epoch_f1 = acc_f1\n",
    "            #run.summary[\"Best Loss\"] = best_epoch_loss\n",
    "            best_model_wts = copy.deepcopy(model.state_dict())\n",
    "            PATH = CONFIG.model_path1\n",
    "            torch.save(model.state_dict(), PATH)\n",
    "            # Save a model file from the current directory\n",
    "            print(f\"Model Saved\")\n",
    "    torch.cuda.empty_cache()\n",
    "    gc.collect()\n",
    "    print(best_epoch_f1)"
   ]
  },
  {
   "cell_type": "code",
   "execution_count": 9,
   "metadata": {},
   "outputs": [
    {
     "name": "stdout",
     "output_type": "stream",
     "text": [
      "==========loading model==========\n"
     ]
    },
    {
     "name": "stderr",
     "output_type": "stream",
     "text": [
      "/home/chihyi111/miniconda3/envs/swin/lib/python3.8/site-packages/transformers/optimization.py:306: FutureWarning: This implementation of AdamW is deprecated and will be removed in a future version. Use the PyTorch implementation torch.optim.AdamW instead, or set `no_deprecation_warning=True` to disable this warning\n",
      "  warnings.warn(\n"
     ]
    },
    {
     "name": "stdout",
     "output_type": "stream",
     "text": [
      "==========data loader==========\n",
      "torch.Size([32, 100, 224])\n",
      "==========start train==========\n"
     ]
    },
    {
     "name": "stderr",
     "output_type": "stream",
     "text": [
      "  1%|          | 1/100 [00:24<41:03, 24.89s/it]"
     ]
    },
    {
     "name": "stdout",
     "output_type": "stream",
     "text": [
      "acc_f1 :  0.3998   auc_roc :  0.8335\n",
      "Validation f1 Improved (0 ---> 0.3998294970161978)\n",
      "Model Saved\n"
     ]
    },
    {
     "name": "stderr",
     "output_type": "stream",
     "text": [
      "  2%|▏         | 2/100 [00:50<41:21, 25.32s/it]"
     ]
    },
    {
     "name": "stdout",
     "output_type": "stream",
     "text": [
      "acc_f1 :  0.7703   auc_roc :  0.8499\n",
      "Validation f1 Improved (0.3998294970161978 ---> 0.7702842545891873)\n",
      "Model Saved\n"
     ]
    },
    {
     "name": "stderr",
     "output_type": "stream",
     "text": [
      "  3%|▎         | 3/100 [01:14<39:44, 24.58s/it]"
     ]
    },
    {
     "name": "stdout",
     "output_type": "stream",
     "text": [
      "acc_f1 :  0.7824   auc_roc :  0.8608\n",
      "Validation f1 Improved (0.7702842545891873 ---> 0.7823672254592823)\n",
      "Model Saved\n"
     ]
    },
    {
     "name": "stderr",
     "output_type": "stream",
     "text": [
      "  4%|▍         | 4/100 [01:39<39:37, 24.77s/it]"
     ]
    },
    {
     "name": "stdout",
     "output_type": "stream",
     "text": [
      "acc_f1 :  0.789   auc_roc :  0.8719\n",
      "Validation f1 Improved (0.7823672254592823 ---> 0.7889504289495786)\n",
      "Model Saved\n"
     ]
    },
    {
     "name": "stderr",
     "output_type": "stream",
     "text": [
      "  5%|▌         | 5/100 [02:06<40:41, 25.70s/it]"
     ]
    },
    {
     "name": "stdout",
     "output_type": "stream",
     "text": [
      "acc_f1 :  0.8206   auc_roc :  0.8818\n",
      "Validation f1 Improved (0.7889504289495786 ---> 0.8206017837890817)\n",
      "Model Saved\n"
     ]
    },
    {
     "name": "stderr",
     "output_type": "stream",
     "text": [
      "  6%|▌         | 6/100 [02:34<41:15, 26.34s/it]"
     ]
    },
    {
     "name": "stdout",
     "output_type": "stream",
     "text": [
      "acc_f1 :  0.8143   auc_roc :  0.8891\n"
     ]
    },
    {
     "name": "stderr",
     "output_type": "stream",
     "text": [
      "  7%|▋         | 7/100 [03:03<42:27, 27.39s/it]"
     ]
    },
    {
     "name": "stdout",
     "output_type": "stream",
     "text": [
      "acc_f1 :  0.8393   auc_roc :  0.8955\n",
      "Validation f1 Improved (0.8206017837890817 ---> 0.839253372349505)\n",
      "Model Saved\n"
     ]
    },
    {
     "name": "stderr",
     "output_type": "stream",
     "text": [
      "  8%|▊         | 8/100 [03:35<44:13, 28.84s/it]"
     ]
    },
    {
     "name": "stdout",
     "output_type": "stream",
     "text": [
      "acc_f1 :  0.8415   auc_roc :  0.905\n",
      "Validation f1 Improved (0.839253372349505 ---> 0.8414721967685335)\n",
      "Model Saved\n",
      "acc_f1 :  0.863   auc_roc :  0.9126\n",
      "Validation f1 Improved (0.8414721967685335 ---> 0.8629581341445749)\n",
      "Model Saved\n"
     ]
    },
    {
     "name": "stderr",
     "output_type": "stream",
     "text": [
      " 10%|█         | 10/100 [04:28<40:47, 27.19s/it]"
     ]
    },
    {
     "name": "stdout",
     "output_type": "stream",
     "text": [
      "acc_f1 :  0.8563   auc_roc :  0.9181\n"
     ]
    },
    {
     "name": "stderr",
     "output_type": "stream",
     "text": [
      " 11%|█         | 11/100 [04:53<39:16, 26.48s/it]"
     ]
    },
    {
     "name": "stdout",
     "output_type": "stream",
     "text": [
      "acc_f1 :  0.8618   auc_roc :  0.9193\n"
     ]
    },
    {
     "name": "stderr",
     "output_type": "stream",
     "text": [
      " 12%|█▏        | 12/100 [05:18<37:50, 25.81s/it]"
     ]
    },
    {
     "name": "stdout",
     "output_type": "stream",
     "text": [
      "acc_f1 :  0.8667   auc_roc :  0.9215\n",
      "Validation f1 Improved (0.8629581341445749 ---> 0.8667442046089464)\n",
      "Model Saved\n"
     ]
    },
    {
     "name": "stderr",
     "output_type": "stream",
     "text": [
      " 13%|█▎        | 13/100 [05:46<38:39, 26.66s/it]"
     ]
    },
    {
     "name": "stdout",
     "output_type": "stream",
     "text": [
      "acc_f1 :  0.8679   auc_roc :  0.9223\n",
      "Validation f1 Improved (0.8667442046089464 ---> 0.867879807324719)\n",
      "Model Saved\n"
     ]
    },
    {
     "name": "stderr",
     "output_type": "stream",
     "text": [
      " 14%|█▍        | 14/100 [06:14<38:52, 27.12s/it]"
     ]
    },
    {
     "name": "stdout",
     "output_type": "stream",
     "text": [
      "acc_f1 :  0.8732   auc_roc :  0.9261\n",
      "Validation f1 Improved (0.867879807324719 ---> 0.8731661706518887)\n",
      "Model Saved\n"
     ]
    },
    {
     "name": "stderr",
     "output_type": "stream",
     "text": [
      " 15%|█▌        | 15/100 [06:44<39:19, 27.75s/it]"
     ]
    },
    {
     "name": "stdout",
     "output_type": "stream",
     "text": [
      "acc_f1 :  0.8652   auc_roc :  0.9268\n"
     ]
    },
    {
     "name": "stderr",
     "output_type": "stream",
     "text": [
      " 16%|█▌        | 16/100 [07:17<41:12, 29.44s/it]"
     ]
    },
    {
     "name": "stdout",
     "output_type": "stream",
     "text": [
      "acc_f1 :  0.8744   auc_roc :  0.9299\n",
      "Validation f1 Improved (0.8731661706518887 ---> 0.8743581999395953)\n",
      "Model Saved\n"
     ]
    },
    {
     "name": "stderr",
     "output_type": "stream",
     "text": [
      " 17%|█▋        | 17/100 [07:43<39:26, 28.51s/it]"
     ]
    },
    {
     "name": "stdout",
     "output_type": "stream",
     "text": [
      "acc_f1 :  0.8803   auc_roc :  0.9309\n",
      "Validation f1 Improved (0.8743581999395953 ---> 0.8802666053780741)\n",
      "Model Saved\n"
     ]
    },
    {
     "name": "stderr",
     "output_type": "stream",
     "text": [
      " 18%|█▊        | 18/100 [08:07<37:04, 27.13s/it]"
     ]
    },
    {
     "name": "stdout",
     "output_type": "stream",
     "text": [
      "acc_f1 :  0.8658   auc_roc :  0.9295\n"
     ]
    },
    {
     "name": "stderr",
     "output_type": "stream",
     "text": [
      " 19%|█▉        | 19/100 [08:30<34:52, 25.83s/it]"
     ]
    },
    {
     "name": "stdout",
     "output_type": "stream",
     "text": [
      "acc_f1 :  0.87   auc_roc :  0.9274\n"
     ]
    },
    {
     "name": "stderr",
     "output_type": "stream",
     "text": [
      " 20%|██        | 20/100 [08:49<31:47, 23.85s/it]"
     ]
    },
    {
     "name": "stdout",
     "output_type": "stream",
     "text": [
      "acc_f1 :  0.8818   auc_roc :  0.9349\n",
      "Validation f1 Improved (0.8802666053780741 ---> 0.8818197079066645)\n",
      "Model Saved\n"
     ]
    },
    {
     "name": "stderr",
     "output_type": "stream",
     "text": [
      " 21%|██        | 21/100 [09:14<31:47, 24.15s/it]"
     ]
    },
    {
     "name": "stdout",
     "output_type": "stream",
     "text": [
      "acc_f1 :  0.877   auc_roc :  0.932\n"
     ]
    },
    {
     "name": "stderr",
     "output_type": "stream",
     "text": [
      " 22%|██▏       | 22/100 [09:37<30:47, 23.68s/it]"
     ]
    },
    {
     "name": "stdout",
     "output_type": "stream",
     "text": [
      "acc_f1 :  0.8738   auc_roc :  0.9343\n"
     ]
    },
    {
     "name": "stderr",
     "output_type": "stream",
     "text": [
      " 23%|██▎       | 23/100 [09:58<29:31, 23.00s/it]"
     ]
    },
    {
     "name": "stdout",
     "output_type": "stream",
     "text": [
      "acc_f1 :  0.8774   auc_roc :  0.9344\n"
     ]
    },
    {
     "name": "stderr",
     "output_type": "stream",
     "text": [
      " 24%|██▍       | 24/100 [10:22<29:18, 23.14s/it]"
     ]
    },
    {
     "name": "stdout",
     "output_type": "stream",
     "text": [
      "acc_f1 :  0.8779   auc_roc :  0.9361\n"
     ]
    },
    {
     "name": "stderr",
     "output_type": "stream",
     "text": [
      " 25%|██▌       | 25/100 [10:47<29:37, 23.70s/it]"
     ]
    },
    {
     "name": "stdout",
     "output_type": "stream",
     "text": [
      "acc_f1 :  0.8737   auc_roc :  0.9332\n"
     ]
    },
    {
     "name": "stderr",
     "output_type": "stream",
     "text": [
      " 26%|██▌       | 26/100 [11:07<27:54, 22.63s/it]"
     ]
    },
    {
     "name": "stdout",
     "output_type": "stream",
     "text": [
      "acc_f1 :  0.8682   auc_roc :  0.9317\n"
     ]
    },
    {
     "name": "stderr",
     "output_type": "stream",
     "text": [
      " 27%|██▋       | 27/100 [11:27<26:46, 22.01s/it]"
     ]
    },
    {
     "name": "stdout",
     "output_type": "stream",
     "text": [
      "acc_f1 :  0.8764   auc_roc :  0.9336\n"
     ]
    },
    {
     "name": "stderr",
     "output_type": "stream",
     "text": [
      " 28%|██▊       | 28/100 [11:48<25:57, 21.64s/it]"
     ]
    },
    {
     "name": "stdout",
     "output_type": "stream",
     "text": [
      "acc_f1 :  0.8779   auc_roc :  0.935\n"
     ]
    },
    {
     "name": "stderr",
     "output_type": "stream",
     "text": [
      " 29%|██▉       | 29/100 [12:08<25:05, 21.20s/it]"
     ]
    },
    {
     "name": "stdout",
     "output_type": "stream",
     "text": [
      "acc_f1 :  0.8796   auc_roc :  0.934\n"
     ]
    },
    {
     "name": "stderr",
     "output_type": "stream",
     "text": [
      " 30%|███       | 30/100 [12:30<25:01, 21.45s/it]"
     ]
    },
    {
     "name": "stdout",
     "output_type": "stream",
     "text": [
      "acc_f1 :  0.8742   auc_roc :  0.933\n"
     ]
    },
    {
     "name": "stderr",
     "output_type": "stream",
     "text": [
      " 31%|███       | 31/100 [12:52<24:55, 21.67s/it]"
     ]
    },
    {
     "name": "stdout",
     "output_type": "stream",
     "text": [
      "acc_f1 :  0.8875   auc_roc :  0.9342\n",
      "Validation f1 Improved (0.8818197079066645 ---> 0.8874926943308006)\n",
      "Model Saved\n"
     ]
    },
    {
     "name": "stderr",
     "output_type": "stream",
     "text": [
      " 32%|███▏      | 32/100 [13:11<23:27, 20.70s/it]"
     ]
    },
    {
     "name": "stdout",
     "output_type": "stream",
     "text": [
      "acc_f1 :  0.887   auc_roc :  0.9296\n"
     ]
    },
    {
     "name": "stderr",
     "output_type": "stream",
     "text": [
      " 33%|███▎      | 33/100 [13:34<23:48, 21.32s/it]"
     ]
    },
    {
     "name": "stdout",
     "output_type": "stream",
     "text": [
      "acc_f1 :  0.8694   auc_roc :  0.9295\n"
     ]
    },
    {
     "name": "stderr",
     "output_type": "stream",
     "text": [
      " 34%|███▍      | 34/100 [13:55<23:26, 21.31s/it]"
     ]
    },
    {
     "name": "stdout",
     "output_type": "stream",
     "text": [
      "acc_f1 :  0.8885   auc_roc :  0.9325\n",
      "Validation f1 Improved (0.8874926943308006 ---> 0.8884825444051875)\n",
      "Model Saved\n"
     ]
    },
    {
     "name": "stderr",
     "output_type": "stream",
     "text": [
      " 35%|███▌      | 35/100 [14:19<24:03, 22.21s/it]"
     ]
    },
    {
     "name": "stdout",
     "output_type": "stream",
     "text": [
      "acc_f1 :  0.8843   auc_roc :  0.9377\n"
     ]
    },
    {
     "name": "stderr",
     "output_type": "stream",
     "text": [
      " 36%|███▌      | 36/100 [14:39<23:01, 21.59s/it]"
     ]
    },
    {
     "name": "stdout",
     "output_type": "stream",
     "text": [
      "acc_f1 :  0.885   auc_roc :  0.9308\n"
     ]
    },
    {
     "name": "stderr",
     "output_type": "stream",
     "text": [
      " 37%|███▋      | 37/100 [15:01<22:34, 21.50s/it]"
     ]
    },
    {
     "name": "stdout",
     "output_type": "stream",
     "text": [
      "acc_f1 :  0.8865   auc_roc :  0.9336\n"
     ]
    },
    {
     "name": "stderr",
     "output_type": "stream",
     "text": [
      " 38%|███▊      | 38/100 [15:22<22:12, 21.50s/it]"
     ]
    },
    {
     "name": "stdout",
     "output_type": "stream",
     "text": [
      "acc_f1 :  0.887   auc_roc :  0.9358\n"
     ]
    },
    {
     "name": "stderr",
     "output_type": "stream",
     "text": [
      " 39%|███▉      | 39/100 [15:44<21:54, 21.55s/it]"
     ]
    },
    {
     "name": "stdout",
     "output_type": "stream",
     "text": [
      "acc_f1 :  0.8811   auc_roc :  0.9351\n"
     ]
    },
    {
     "name": "stderr",
     "output_type": "stream",
     "text": [
      " 40%|████      | 40/100 [16:06<21:35, 21.59s/it]"
     ]
    },
    {
     "name": "stdout",
     "output_type": "stream",
     "text": [
      "acc_f1 :  0.8826   auc_roc :  0.9361\n"
     ]
    },
    {
     "name": "stderr",
     "output_type": "stream",
     "text": [
      " 41%|████      | 41/100 [16:31<22:21, 22.73s/it]"
     ]
    },
    {
     "name": "stdout",
     "output_type": "stream",
     "text": [
      "acc_f1 :  0.887   auc_roc :  0.934\n"
     ]
    },
    {
     "name": "stderr",
     "output_type": "stream",
     "text": [
      " 42%|████▏     | 42/100 [16:53<21:46, 22.53s/it]"
     ]
    },
    {
     "name": "stdout",
     "output_type": "stream",
     "text": [
      "acc_f1 :  0.8855   auc_roc :  0.9351\n"
     ]
    },
    {
     "name": "stderr",
     "output_type": "stream",
     "text": [
      " 43%|████▎     | 43/100 [17:14<20:50, 21.93s/it]"
     ]
    },
    {
     "name": "stdout",
     "output_type": "stream",
     "text": [
      "acc_f1 :  0.885   auc_roc :  0.933\n"
     ]
    },
    {
     "name": "stderr",
     "output_type": "stream",
     "text": [
      " 44%|████▍     | 44/100 [17:33<19:40, 21.07s/it]"
     ]
    },
    {
     "name": "stdout",
     "output_type": "stream",
     "text": [
      "acc_f1 :  0.8825   auc_roc :  0.9324\n"
     ]
    },
    {
     "name": "stderr",
     "output_type": "stream",
     "text": [
      " 45%|████▌     | 45/100 [17:51<18:40, 20.37s/it]"
     ]
    },
    {
     "name": "stdout",
     "output_type": "stream",
     "text": [
      "acc_f1 :  0.8863   auc_roc :  0.9348\n"
     ]
    },
    {
     "name": "stderr",
     "output_type": "stream",
     "text": [
      " 46%|████▌     | 46/100 [18:10<17:49, 19.80s/it]"
     ]
    },
    {
     "name": "stdout",
     "output_type": "stream",
     "text": [
      "acc_f1 :  0.8863   auc_roc :  0.9344\n"
     ]
    },
    {
     "name": "stderr",
     "output_type": "stream",
     "text": [
      " 47%|████▋     | 47/100 [18:35<18:50, 21.32s/it]"
     ]
    },
    {
     "name": "stdout",
     "output_type": "stream",
     "text": [
      "acc_f1 :  0.8809   auc_roc :  0.9302\n"
     ]
    },
    {
     "name": "stderr",
     "output_type": "stream",
     "text": [
      " 48%|████▊     | 48/100 [18:58<19:05, 22.04s/it]"
     ]
    },
    {
     "name": "stdout",
     "output_type": "stream",
     "text": [
      "acc_f1 :  0.8823   auc_roc :  0.9352\n"
     ]
    },
    {
     "name": "stderr",
     "output_type": "stream",
     "text": [
      " 49%|████▉     | 49/100 [19:21<18:56, 22.29s/it]"
     ]
    },
    {
     "name": "stdout",
     "output_type": "stream",
     "text": [
      "acc_f1 :  0.885   auc_roc :  0.9329\n"
     ]
    },
    {
     "name": "stderr",
     "output_type": "stream",
     "text": [
      " 50%|█████     | 50/100 [19:41<18:01, 21.63s/it]"
     ]
    },
    {
     "name": "stdout",
     "output_type": "stream",
     "text": [
      "acc_f1 :  0.8836   auc_roc :  0.9349\n"
     ]
    },
    {
     "name": "stderr",
     "output_type": "stream",
     "text": [
      " 51%|█████     | 51/100 [20:07<18:40, 22.87s/it]"
     ]
    },
    {
     "name": "stdout",
     "output_type": "stream",
     "text": [
      "acc_f1 :  0.8818   auc_roc :  0.9295\n"
     ]
    },
    {
     "name": "stderr",
     "output_type": "stream",
     "text": [
      " 52%|█████▏    | 52/100 [20:29<17:58, 22.47s/it]"
     ]
    },
    {
     "name": "stdout",
     "output_type": "stream",
     "text": [
      "acc_f1 :  0.8789   auc_roc :  0.934\n"
     ]
    },
    {
     "name": "stderr",
     "output_type": "stream",
     "text": [
      " 53%|█████▎    | 53/100 [20:53<17:57, 22.92s/it]"
     ]
    },
    {
     "name": "stdout",
     "output_type": "stream",
     "text": [
      "acc_f1 :  0.888   auc_roc :  0.9335\n"
     ]
    },
    {
     "name": "stderr",
     "output_type": "stream",
     "text": [
      " 54%|█████▍    | 54/100 [21:18<18:02, 23.53s/it]"
     ]
    },
    {
     "name": "stdout",
     "output_type": "stream",
     "text": [
      "acc_f1 :  0.8848   auc_roc :  0.9332\n"
     ]
    },
    {
     "name": "stderr",
     "output_type": "stream",
     "text": [
      " 55%|█████▌    | 55/100 [21:40<17:22, 23.16s/it]"
     ]
    },
    {
     "name": "stdout",
     "output_type": "stream",
     "text": [
      "acc_f1 :  0.8858   auc_roc :  0.9304\n"
     ]
    },
    {
     "name": "stderr",
     "output_type": "stream",
     "text": [
      " 56%|█████▌    | 56/100 [22:08<18:00, 24.56s/it]"
     ]
    },
    {
     "name": "stdout",
     "output_type": "stream",
     "text": [
      "acc_f1 :  0.8831   auc_roc :  0.9338\n"
     ]
    },
    {
     "name": "stderr",
     "output_type": "stream",
     "text": [
      " 57%|█████▋    | 57/100 [22:40<19:21, 27.01s/it]"
     ]
    },
    {
     "name": "stdout",
     "output_type": "stream",
     "text": [
      "acc_f1 :  0.885   auc_roc :  0.934\n"
     ]
    },
    {
     "name": "stderr",
     "output_type": "stream",
     "text": [
      " 58%|█████▊    | 58/100 [23:10<19:24, 27.72s/it]"
     ]
    },
    {
     "name": "stdout",
     "output_type": "stream",
     "text": [
      "acc_f1 :  0.884   auc_roc :  0.9348\n"
     ]
    },
    {
     "name": "stderr",
     "output_type": "stream",
     "text": [
      " 59%|█████▉    | 59/100 [23:33<17:59, 26.32s/it]"
     ]
    },
    {
     "name": "stdout",
     "output_type": "stream",
     "text": [
      "acc_f1 :  0.8838   auc_roc :  0.9348\n"
     ]
    },
    {
     "name": "stderr",
     "output_type": "stream",
     "text": [
      " 60%|██████    | 60/100 [24:02<18:07, 27.19s/it]"
     ]
    },
    {
     "name": "stdout",
     "output_type": "stream",
     "text": [
      "acc_f1 :  0.8809   auc_roc :  0.935\n"
     ]
    },
    {
     "name": "stderr",
     "output_type": "stream",
     "text": [
      " 61%|██████    | 61/100 [24:29<17:39, 27.17s/it]"
     ]
    },
    {
     "name": "stdout",
     "output_type": "stream",
     "text": [
      "acc_f1 :  0.884   auc_roc :  0.934\n"
     ]
    },
    {
     "name": "stderr",
     "output_type": "stream",
     "text": [
      " 62%|██████▏   | 62/100 [24:58<17:29, 27.61s/it]"
     ]
    },
    {
     "name": "stdout",
     "output_type": "stream",
     "text": [
      "acc_f1 :  0.8877   auc_roc :  0.9348\n"
     ]
    },
    {
     "name": "stderr",
     "output_type": "stream",
     "text": [
      " 63%|██████▎   | 63/100 [25:28<17:25, 28.27s/it]"
     ]
    },
    {
     "name": "stdout",
     "output_type": "stream",
     "text": [
      "acc_f1 :  0.8836   auc_roc :  0.9345\n"
     ]
    },
    {
     "name": "stderr",
     "output_type": "stream",
     "text": [
      " 64%|██████▍   | 64/100 [25:55<16:45, 27.93s/it]"
     ]
    },
    {
     "name": "stdout",
     "output_type": "stream",
     "text": [
      "acc_f1 :  0.8845   auc_roc :  0.9343\n"
     ]
    },
    {
     "name": "stderr",
     "output_type": "stream",
     "text": [
      " 65%|██████▌   | 65/100 [26:22<16:12, 27.78s/it]"
     ]
    },
    {
     "name": "stdout",
     "output_type": "stream",
     "text": [
      "acc_f1 :  0.8811   auc_roc :  0.9336\n"
     ]
    },
    {
     "name": "stderr",
     "output_type": "stream",
     "text": [
      " 66%|██████▌   | 66/100 [26:48<15:22, 27.15s/it]"
     ]
    },
    {
     "name": "stdout",
     "output_type": "stream",
     "text": [
      "acc_f1 :  0.884   auc_roc :  0.9366\n"
     ]
    },
    {
     "name": "stderr",
     "output_type": "stream",
     "text": [
      " 67%|██████▋   | 67/100 [27:12<14:23, 26.17s/it]"
     ]
    },
    {
     "name": "stdout",
     "output_type": "stream",
     "text": [
      "acc_f1 :  0.8792   auc_roc :  0.9302\n"
     ]
    },
    {
     "name": "stderr",
     "output_type": "stream",
     "text": [
      " 68%|██████▊   | 68/100 [27:31<12:52, 24.14s/it]"
     ]
    },
    {
     "name": "stdout",
     "output_type": "stream",
     "text": [
      "acc_f1 :  0.8877   auc_roc :  0.9348\n"
     ]
    },
    {
     "name": "stderr",
     "output_type": "stream",
     "text": [
      " 69%|██████▉   | 69/100 [27:57<12:39, 24.51s/it]"
     ]
    },
    {
     "name": "stdout",
     "output_type": "stream",
     "text": [
      "acc_f1 :  0.8831   auc_roc :  0.9322\n"
     ]
    },
    {
     "name": "stderr",
     "output_type": "stream",
     "text": [
      " 70%|███████   | 70/100 [28:20<12:01, 24.06s/it]"
     ]
    },
    {
     "name": "stdout",
     "output_type": "stream",
     "text": [
      "acc_f1 :  0.8855   auc_roc :  0.9336\n"
     ]
    },
    {
     "name": "stderr",
     "output_type": "stream",
     "text": [
      " 71%|███████   | 71/100 [28:46<11:59, 24.81s/it]"
     ]
    },
    {
     "name": "stdout",
     "output_type": "stream",
     "text": [
      "acc_f1 :  0.8863   auc_roc :  0.9333\n"
     ]
    },
    {
     "name": "stderr",
     "output_type": "stream",
     "text": [
      " 72%|███████▏  | 72/100 [29:11<11:34, 24.82s/it]"
     ]
    },
    {
     "name": "stdout",
     "output_type": "stream",
     "text": [
      "acc_f1 :  0.885   auc_roc :  0.9354\n"
     ]
    },
    {
     "name": "stderr",
     "output_type": "stream",
     "text": [
      " 73%|███████▎  | 73/100 [29:34<10:52, 24.17s/it]"
     ]
    },
    {
     "name": "stdout",
     "output_type": "stream",
     "text": [
      "acc_f1 :  0.8812   auc_roc :  0.93\n"
     ]
    },
    {
     "name": "stderr",
     "output_type": "stream",
     "text": [
      " 74%|███████▍  | 74/100 [30:02<11:00, 25.41s/it]"
     ]
    },
    {
     "name": "stdout",
     "output_type": "stream",
     "text": [
      "acc_f1 :  0.8828   auc_roc :  0.934\n"
     ]
    },
    {
     "name": "stderr",
     "output_type": "stream",
     "text": [
      " 75%|███████▌  | 75/100 [30:31<11:00, 26.42s/it]"
     ]
    },
    {
     "name": "stdout",
     "output_type": "stream",
     "text": [
      "acc_f1 :  0.8831   auc_roc :  0.9319\n"
     ]
    },
    {
     "name": "stderr",
     "output_type": "stream",
     "text": [
      " 76%|███████▌  | 76/100 [30:55<10:21, 25.88s/it]"
     ]
    },
    {
     "name": "stdout",
     "output_type": "stream",
     "text": [
      "acc_f1 :  0.8836   auc_roc :  0.9359\n"
     ]
    },
    {
     "name": "stderr",
     "output_type": "stream",
     "text": [
      " 77%|███████▋  | 77/100 [31:18<09:36, 25.05s/it]"
     ]
    },
    {
     "name": "stdout",
     "output_type": "stream",
     "text": [
      "acc_f1 :  0.8826   auc_roc :  0.9348\n"
     ]
    },
    {
     "name": "stderr",
     "output_type": "stream",
     "text": [
      " 78%|███████▊  | 78/100 [31:39<08:44, 23.83s/it]"
     ]
    },
    {
     "name": "stdout",
     "output_type": "stream",
     "text": [
      "acc_f1 :  0.8813   auc_roc :  0.9339\n"
     ]
    },
    {
     "name": "stderr",
     "output_type": "stream",
     "text": [
      " 79%|███████▉  | 79/100 [32:00<07:59, 22.83s/it]"
     ]
    },
    {
     "name": "stdout",
     "output_type": "stream",
     "text": [
      "acc_f1 :  0.8882   auc_roc :  0.9336\n"
     ]
    },
    {
     "name": "stderr",
     "output_type": "stream",
     "text": [
      " 80%|████████  | 80/100 [32:23<07:39, 22.98s/it]"
     ]
    },
    {
     "name": "stdout",
     "output_type": "stream",
     "text": [
      "acc_f1 :  0.8793   auc_roc :  0.9338\n"
     ]
    },
    {
     "name": "stderr",
     "output_type": "stream",
     "text": [
      " 81%|████████  | 81/100 [32:46<07:12, 22.78s/it]"
     ]
    },
    {
     "name": "stdout",
     "output_type": "stream",
     "text": [
      "acc_f1 :  0.8836   auc_roc :  0.9339\n"
     ]
    },
    {
     "name": "stderr",
     "output_type": "stream",
     "text": [
      " 82%|████████▏ | 82/100 [33:10<07:01, 23.40s/it]"
     ]
    },
    {
     "name": "stdout",
     "output_type": "stream",
     "text": [
      "acc_f1 :  0.8779   auc_roc :  0.935\n"
     ]
    },
    {
     "name": "stderr",
     "output_type": "stream",
     "text": [
      " 83%|████████▎ | 83/100 [33:34<06:41, 23.61s/it]"
     ]
    },
    {
     "name": "stdout",
     "output_type": "stream",
     "text": [
      "acc_f1 :  0.8828   auc_roc :  0.9345\n"
     ]
    },
    {
     "name": "stderr",
     "output_type": "stream",
     "text": [
      " 84%|████████▍ | 84/100 [33:58<06:17, 23.59s/it]"
     ]
    },
    {
     "name": "stdout",
     "output_type": "stream",
     "text": [
      "acc_f1 :  0.8823   auc_roc :  0.9347\n"
     ]
    },
    {
     "name": "stderr",
     "output_type": "stream",
     "text": [
      " 85%|████████▌ | 85/100 [34:22<05:55, 23.73s/it]"
     ]
    },
    {
     "name": "stdout",
     "output_type": "stream",
     "text": [
      "acc_f1 :  0.8835   auc_roc :  0.933\n"
     ]
    },
    {
     "name": "stderr",
     "output_type": "stream",
     "text": [
      " 86%|████████▌ | 86/100 [34:49<05:44, 24.61s/it]"
     ]
    },
    {
     "name": "stdout",
     "output_type": "stream",
     "text": [
      "acc_f1 :  0.8808   auc_roc :  0.9327\n"
     ]
    },
    {
     "name": "stderr",
     "output_type": "stream",
     "text": [
      " 87%|████████▋ | 87/100 [35:15<05:24, 24.98s/it]"
     ]
    },
    {
     "name": "stdout",
     "output_type": "stream",
     "text": [
      "acc_f1 :  0.8833   auc_roc :  0.9332\n"
     ]
    },
    {
     "name": "stderr",
     "output_type": "stream",
     "text": [
      " 88%|████████▊ | 88/100 [35:41<05:05, 25.45s/it]"
     ]
    },
    {
     "name": "stdout",
     "output_type": "stream",
     "text": [
      "acc_f1 :  0.8835   auc_roc :  0.9331\n"
     ]
    },
    {
     "name": "stderr",
     "output_type": "stream",
     "text": [
      " 89%|████████▉ | 89/100 [36:10<04:52, 26.57s/it]"
     ]
    },
    {
     "name": "stdout",
     "output_type": "stream",
     "text": [
      "acc_f1 :  0.8867   auc_roc :  0.9338\n"
     ]
    },
    {
     "name": "stderr",
     "output_type": "stream",
     "text": [
      " 90%|█████████ | 90/100 [36:31<04:07, 24.77s/it]"
     ]
    },
    {
     "name": "stdout",
     "output_type": "stream",
     "text": [
      "acc_f1 :  0.8838   auc_roc :  0.9338\n"
     ]
    },
    {
     "name": "stderr",
     "output_type": "stream",
     "text": [
      " 91%|█████████ | 91/100 [36:50<03:28, 23.20s/it]"
     ]
    },
    {
     "name": "stdout",
     "output_type": "stream",
     "text": [
      "acc_f1 :  0.8831   auc_roc :  0.9339\n"
     ]
    },
    {
     "name": "stderr",
     "output_type": "stream",
     "text": [
      " 92%|█████████▏| 92/100 [37:14<03:07, 23.41s/it]"
     ]
    },
    {
     "name": "stdout",
     "output_type": "stream",
     "text": [
      "acc_f1 :  0.8828   auc_roc :  0.9339\n"
     ]
    },
    {
     "name": "stderr",
     "output_type": "stream",
     "text": [
      " 93%|█████████▎| 93/100 [37:43<02:54, 24.89s/it]"
     ]
    },
    {
     "name": "stdout",
     "output_type": "stream",
     "text": [
      "acc_f1 :  0.8816   auc_roc :  0.9337\n"
     ]
    },
    {
     "name": "stderr",
     "output_type": "stream",
     "text": [
      " 94%|█████████▍| 94/100 [38:07<02:27, 24.58s/it]"
     ]
    },
    {
     "name": "stdout",
     "output_type": "stream",
     "text": [
      "acc_f1 :  0.8848   auc_roc :  0.934\n"
     ]
    },
    {
     "name": "stderr",
     "output_type": "stream",
     "text": [
      " 95%|█████████▌| 95/100 [38:33<02:06, 25.21s/it]"
     ]
    },
    {
     "name": "stdout",
     "output_type": "stream",
     "text": [
      "acc_f1 :  0.8828   auc_roc :  0.934\n"
     ]
    },
    {
     "name": "stderr",
     "output_type": "stream",
     "text": [
      " 96%|█████████▌| 96/100 [38:59<01:42, 25.51s/it]"
     ]
    },
    {
     "name": "stdout",
     "output_type": "stream",
     "text": [
      "acc_f1 :  0.8867   auc_roc :  0.9338\n"
     ]
    },
    {
     "name": "stderr",
     "output_type": "stream",
     "text": [
      " 97%|█████████▋| 97/100 [39:24<01:15, 25.13s/it]"
     ]
    },
    {
     "name": "stdout",
     "output_type": "stream",
     "text": [
      "acc_f1 :  0.8838   auc_roc :  0.9342\n"
     ]
    },
    {
     "name": "stderr",
     "output_type": "stream",
     "text": [
      " 98%|█████████▊| 98/100 [39:51<00:51, 25.81s/it]"
     ]
    },
    {
     "name": "stdout",
     "output_type": "stream",
     "text": [
      "acc_f1 :  0.8833   auc_roc :  0.934\n"
     ]
    },
    {
     "name": "stderr",
     "output_type": "stream",
     "text": [
      " 99%|█████████▉| 99/100 [40:20<00:26, 26.89s/it]"
     ]
    },
    {
     "name": "stdout",
     "output_type": "stream",
     "text": [
      "acc_f1 :  0.8813   auc_roc :  0.9329\n"
     ]
    },
    {
     "name": "stderr",
     "output_type": "stream",
     "text": [
      "100%|██████████| 100/100 [40:42<00:00, 24.42s/it]"
     ]
    },
    {
     "name": "stdout",
     "output_type": "stream",
     "text": [
      "acc_f1 :  0.8833   auc_roc :  0.9336\n",
      "0.8884825444051875\n"
     ]
    },
    {
     "name": "stderr",
     "output_type": "stream",
     "text": [
      "\n"
     ]
    }
   ],
   "source": [
    "os.environ[\"CUDA_VISIBLE_DEVICES\"] = \"4\"\n",
    "main()"
   ]
  },
  {
   "cell_type": "code",
   "execution_count": 14,
   "metadata": {},
   "outputs": [],
   "source": [
    "# mean 10\n",
    "def valid_one(model, loader):\n",
    "    losses, predicts = [], []\n",
    "    true_y=[]\n",
    "    pred_y=[]\n",
    "    model.eval()\n",
    "    for images, label in loader:\n",
    "        with torch.no_grad():\n",
    "            images = images.cuda().float()\n",
    "            labels = label.cuda().float()\n",
    "            out = model(images)\n",
    "            loss = loss_fn(out.view(-1),labels)\n",
    "        losses.append(loss.item())\n",
    "        predicts.append(out.cpu())\n",
    "        true_y.append(labels.cpu().numpy())\n",
    "        pred_y.append(torch.sigmoid(out).cpu().numpy())\n",
    "        \n",
    "    true_y=np.concatenate(true_y)\n",
    "    pred_y=np.concatenate(pred_y)\n",
    "    \n",
    "    gc.collect()\n",
    "    \n",
    "    true_y=np.array(true_y).reshape(-1,1)\n",
    "    pred_y=np.array(pred_y).reshape(-1,1)\n",
    "\n",
    "    return true_y,pred_y"
   ]
  },
  {
   "cell_type": "code",
   "execution_count": 15,
   "metadata": {},
   "outputs": [
    {
     "name": "stdout",
     "output_type": "stream",
     "text": [
      "==========data loader==========\n"
     ]
    }
   ],
   "source": [
    "pred_path = CONFIG.model_path1\n",
    "model = MyModel(ct_len = CONFIG.ct_len_get, kernal_size=CONFIG.kernal_size, pre_train=CONFIG.pre_train).cuda()\n",
    "model.load_state_dict(torch.load(pred_path))\n",
    "model.cuda()\n",
    "df_path = './csv_pickle/df_224_embed_sz_384_146server.csv'\n",
    "print(\"==========data loader==========\")\n",
    "valid_ds = COVID_Dataset(csv_path = df_path,data_split = 'valid', ct_len_s = CONFIG.ct_len_get, transform = None)\n",
    "valid_loader = DataLoader(valid_ds, batch_size=CONFIG.valid_batch_size, num_workers=15, shuffle=False, pin_memory=True)\n"
   ]
  },
  {
   "cell_type": "code",
   "execution_count": 16,
   "metadata": {},
   "outputs": [
    {
     "name": "stdout",
     "output_type": "stream",
     "text": [
      "Mean F1-Score: 0.8884825444051875\n",
      "Negative Accuracy: 0.9381663113006397\n",
      "Positive Accuracy: 0.8297872340425532\n"
     ]
    }
   ],
   "source": [
    "total_pred=[]\n",
    "for i in range(10):\n",
    "    true_y,pred_y=valid_one(model, valid_loader)\n",
    "    total_pred.append(pred_y)\n",
    "# for i in range(len(total_pred)):\n",
    "#     print(f1_score(np.array(true_y),np.round(total_pred[i]),average='macro'))  \n",
    "tn, fp, fn, tp = confusion_matrix(np.array(true_y), np.round(np.mean(total_pred,axis=0))).ravel()\n",
    "print(\"Mean F1-Score: {}\".format(f1_score(np.array(true_y),np.round(np.mean(total_pred,axis=0)),average='macro')))\n",
    "print(\"Negative Accuracy: {}\".format(tn/(tn+fp)))\n",
    "print(\"Positive Accuracy: {}\".format(tp/(tp+fn)))"
   ]
  },
  {
   "cell_type": "code",
   "execution_count": null,
   "metadata": {},
   "outputs": [],
   "source": []
  },
  {
   "cell_type": "code",
   "execution_count": 13,
   "metadata": {},
   "outputs": [],
   "source": [
    "# ======================================\n",
    "# model: 2dcnn(efficientnet_b3a) + 1dcnn + resnet18\n",
    "# LR: (0.0001, decay:0.0005)\n",
    "# batch size: 8\n",
    "# image size: [384x384]\n",
    "# datatype: challenge data\n",
    "# (weight =  best f1 socre checkpoint)\n",
    "# ------------------------------------\n",
    "# [conv axis=embedding]\n",
    "# kernel=1; ct_len=100[pretrain=True]\n",
    "# Mean F1-Score: 0.8964\n",
    "# Negative Accuracy: 0.9744\n",
    "# Positive Accuracy: 0.7872\n",
    "# ------------------------------------\n",
    "# [conv axis=embedding]\n",
    "# kernel=3; ct_len=100[pretrain=True]\n",
    "# Mean F1-Score: 0.8964\n",
    "# Negative Accuracy: 0.9744\n",
    "# Positive Accuracy: 0.7872\n",
    "# ------------------------------------\n",
    "# [conv axis=embedding]\n",
    "# kernel=1; ct_len=100[pretrain=False]\n",
    "# Mean F1-Score: 0.9221\n",
    "# Negative Accuracy: 0.9637\n",
    "# Positive Accuracy: 0.8680\n",
    "# ------------------------------------\n",
    "# [conv axis=slice]\n",
    "# kernel=1; ct_len=100[pretrain=False]\n",
    "# Mean F1-Score: 0.9133\n",
    "# Negative Accuracy: 0.9658\n",
    "# Positive Accuracy: 0.0.8425\n",
    "# ------------------------------------\n",
    "# [conv axis=embedding]\n",
    "# kernel=3; ct_len=100[pretrain=False]\n",
    "# Mean F1-Score: 0.9160\n",
    "# Negative Accuracy: 0.9744\n",
    "# Positive Accuracy: 0.8340\n",
    "# ------------------------------------\n",
    "# [conv axis=embedding]\n",
    "# kernel=7; ct_len=100[pretrain=False]\n",
    "# Mean F1-Score: 0.9150\n",
    "# Negative Accuracy: 0.9658\n",
    "# Positive Accuracy: 0.8468\n",
    "# ------------------------------------\n",
    "# [conv axis=embedding]\n",
    "# kernel=1; ct_len=200[pretrain=False]\n",
    "# Mean F1-Score: 0.9076\n",
    "# Negative Accuracy: 0.9701\n",
    "# Positive Accuracy: 0.8212\n",
    "# ------------------------------------\n",
    "# [conv axis=embedding]\n",
    "# kernel=1; ct_len=224[pretrain=False]\n",
    "# Mean F1-Score: 0.9015\n",
    "# Negative Accuracy: 0.9616\n",
    "# Positive Accuracy: 0.8212"
   ]
  }
 ],
 "metadata": {
  "kernelspec": {
   "display_name": "swin",
   "language": "python",
   "name": "python3"
  },
  "language_info": {
   "codemirror_mode": {
    "name": "ipython",
    "version": 3
   },
   "file_extension": ".py",
   "mimetype": "text/x-python",
   "name": "python",
   "nbconvert_exporter": "python",
   "pygments_lexer": "ipython3",
   "version": "3.8.16"
  },
  "orig_nbformat": 4,
  "vscode": {
   "interpreter": {
    "hash": "59460f4696914c2b63c32a491cda090056eb06068fec4b5dfed046fe694fcf36"
   }
  }
 },
 "nbformat": 4,
 "nbformat_minor": 2
}
