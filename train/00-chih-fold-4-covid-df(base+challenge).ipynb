{
 "cells": [
  {
   "cell_type": "code",
   "execution_count": 1,
   "metadata": {},
   "outputs": [],
   "source": [
    "# 以下是特別為了進行cross validation切割以及彙整所有CT資料使用，請視情況使用，無法直接run。\n",
    "import glob, pandas as pd, os\n",
    "import numpy as np\n",
    "from pathlib import Path\n",
    "from sklearn.model_selection import StratifiedKFold"
   ]
  },
  {
   "cell_type": "code",
   "execution_count": 2,
   "metadata": {},
   "outputs": [],
   "source": [
    "#取得路徑下所有資料\n",
    "count=0\n",
    "data_getcwd = '/ssd8/2023COVID19/' #base path\n",
    "full_data_list = [] #儲存所有slice清單\n",
    "full_path_list = [] #儲存所有CT資料夾清單\n",
    "\n",
    "# for i in ['negative', 'positive']:\n",
    "#         for path in Path(os.path.join(data_getcwd,'Train_Valid_dataset/train/{}').format(i)).rglob('*.jpg'): #尋找所有*jpg檔案\n",
    "#                 ct_name = str(path.parent).split('/')[-1]\n",
    "#                 label = 0 if 'negative' in str(path) else 1\n",
    "#                 token_key = ct_name+'_0' if 'negative' in str(path) else ct_name+'_1'\n",
    "#                 full_data_list.append([str(path.parent), ct_name, str(path.name), label, 0, token_key])\n",
    "#                 full_path_list.append([str(path.parent), label, 0, token_key])     \n",
    "\n",
    "# for path in Path(os.path.join(data_getcwd,'Unzip_dataset/train/negative/extra_challenge1_non_cov_train_new_icassp')).rglob('*.jpg'): #尋找challenge所有*jpg檔案\n",
    "#         ct_name = str(path.parent).split('/')[-1]\n",
    "#         label = 0 if 'negative' in str(path) else 1\n",
    "#         token_key = ct_name+'_0_cha' if 'negative' in str(path) else ct_name+'_1_cha' #用於區分covid和non-covid中重複的資料夾名稱，之後也會以這個columns作為篩選key\n",
    "#         full_data_list.append([str(path.parent), ct_name, str(path.name), label, 0, token_key])\n",
    "#         full_path_list.append([str(path.parent), label, 0, token_key])\n",
    "\n",
    "\n",
    "\n",
    "for i in ['negative', 'positive']:\n",
    "        for path in Path(os.path.join(data_getcwd,'Train_Valid_dataset/valid/{}').format(i)).rglob('*.jpg'): #尋找所有*jpg檔案\n",
    "                ct_name = str(path.parent).split('/')[-1]\n",
    "                label = 0 if 'negative' in str(path) else 1\n",
    "                token_key = ct_name+'_0' if 'negative' in str(path) else ct_name+'_1'\n",
    "                full_data_list.append([str(path.parent), ct_name, str(path.name), label, 0, token_key])\n",
    "                full_path_list.append([str(path.parent), label, 0, token_key])\n",
    "\n",
    "for path in Path(os.path.join(data_getcwd,'Unzip_dataset/valid/negative/extra_challenge1_non_cov_val_new_icassp')).rglob('*.jpg'): #尋找challenge所有*jpg檔案\n",
    "        ct_name = str(path.parent).split('/')[-1]\n",
    "        label = 0 if 'negative' in str(path) else 1\n",
    "        token_key = ct_name+'_0_cha' if 'negative' in str(path) else ct_name+'_1_cha' #用於區分covid和non-covid中重複的資料夾名稱，之後也會以這個columns作為篩選key\n",
    "        full_data_list.append([str(path.parent), ct_name, str(path.name), label, 0, token_key])\n",
    "        full_path_list.append([str(path.parent), label, 0, token_key])\n",
    "\n",
    "for path in Path(os.path.join(data_getcwd,'Unzip_dataset/valid/positive/extra_challenge1_cov_val_new_icassp')).rglob('*.jpg'): #尋找challenge所有*jpg檔案\n",
    "        ct_name = str(path.parent).split('/')[-1]\n",
    "        label = 0 if 'negative' in str(path) else 1\n",
    "        token_key = ct_name+'_0_cha' if 'negative' in str(path) else ct_name+'_1_cha' #用於區分covid和non-covid中重複的資料夾名稱，之後也會以這個columns作為篩選key\n",
    "        full_data_list.append([str(path.parent), ct_name, str(path.name), label, 0, token_key])\n",
    "        full_path_list.append([str(path.parent), label, 0, token_key])\n",
    "\n",
    "full_data_list = pd.DataFrame(full_data_list, columns=['path', 'ct_name', 'slice_name','label', 'fold', 'token_key']).reset_index(drop=True) #重置index用於篩選location\n",
    "full_path_list = pd.DataFrame(full_path_list, columns=['parent_path', 'label', 'fold', 'token_key']).drop_duplicates(subset='parent_path').reset_index(drop=True) #重置index用於篩選location"
   ]
  },
  {
   "cell_type": "code",
   "execution_count": 3,
   "metadata": {},
   "outputs": [],
   "source": [
    "kfold = StratifiedKFold(n_splits=4, shuffle=True, random_state=42)"
   ]
  },
  {
   "cell_type": "code",
   "execution_count": 4,
   "metadata": {},
   "outputs": [],
   "source": [
    "\n",
    "for idx, (train, test) in enumerate(kfold.split(full_path_list['token_key'].values, full_path_list['label'].values)):#基於index設立fold number\n",
    "    # print(test)\n",
    "    full_path_list.loc[test, 'fold']=idx+1#將挑選出來的fold index用於篩選CT資料夾清單的index資料，並且將fold欄位全覆蓋為當前的fold number"
   ]
  },
  {
   "cell_type": "code",
   "execution_count": 5,
   "metadata": {},
   "outputs": [
    {
     "name": "stderr",
     "output_type": "stream",
     "text": [
      "100%|██████████| 704/704 [00:12<00:00, 58.10it/s]\n"
     ]
    }
   ],
   "source": [
    "from tqdm import tqdm\n",
    "for i in tqdm(range (len(full_path_list))): #根據CT資料夾清單對所有Slice進行fold欄位覆蓋\n",
    "    ct_name = full_path_list.loc[i].token_key#取得CT資料夾名字\n",
    "    row_index = full_data_list['token_key']==ct_name #取得所有Slice清單中符合當前CT資料夾名字的index\n",
    "    fold = full_path_list.loc[i].fold #取得CT資料夾清單的fold數字\n",
    "    full_data_list.loc[row_index,'fold'] = fold #將挑選出來的slice清單的fold數字，全部替換成CT資料夾清單挑選出來的fold數字"
   ]
  },
  {
   "cell_type": "code",
   "execution_count": 6,
   "metadata": {},
   "outputs": [],
   "source": [
    "drop_valid_df_list_ = full_data_list.drop_duplicates(subset='token_key')\n",
    "all_train_list =[drop_valid_df_list_[drop_valid_df_list_['label']==1].path.values.tolist(),\n",
    "                 drop_valid_df_list_[drop_valid_df_list_['label']==0].path.values.tolist()]"
   ]
  },
  {
   "cell_type": "code",
   "execution_count": 7,
   "metadata": {},
   "outputs": [
    {
     "name": "stdout",
     "output_type": "stream",
     "text": [
      "Fold-1 CT number: 176 || Slice Sample: 37707 || CT covid: 58; CT non-covid: 118\n",
      "Fold-2 CT number: 176 || Slice Sample: 37101 || CT covid: 59; CT non-covid: 117\n",
      "Fold-3 CT number: 176 || Slice Sample: 39555 || CT covid: 59; CT non-covid: 117\n",
      "Fold-4 CT number: 176 || Slice Sample: 37544 || CT covid: 59; CT non-covid: 117\n"
     ]
    }
   ],
   "source": [
    "for i in [1,2,3,4]:\n",
    "    temp = full_data_list[full_data_list['fold']==i]\n",
    "    folder = temp['token_key'].drop_duplicates()\n",
    "    label = temp.drop_duplicates(subset='token_key').label\n",
    "    print(\"Fold-{} CT number: {} || Slice Sample: {} || CT covid: {}; CT non-covid: {}\".format(i, len(folder),len(temp), sum(label), len(label)-sum(label)))\n",
    "# full_data_list_save = full_data_list[['path', 'ct_name', 'slice_name','label', 'fold']]\n",
    "full_data_list_save = full_data_list\n",
    "full_data_list_save.to_csv('./Train_Valid_dataset/chih_4_fold_covid_valid_df.csv', index=False, encoding='utf-8-sig')\n",
    "# full_data_list_save.to_csv('./Train_Valid_dataset/chih_4_fold_covid_train_df.csv', index=False, encoding='utf-8-sig')\n"
   ]
  },
  {
   "cell_type": "code",
   "execution_count": null,
   "metadata": {},
   "outputs": [],
   "source": [
    "235"
   ]
  }
 ],
 "metadata": {
  "kernelspec": {
   "display_name": "covid2023",
   "language": "python",
   "name": "python3"
  },
  "language_info": {
   "codemirror_mode": {
    "name": "ipython",
    "version": 3
   },
   "file_extension": ".py",
   "mimetype": "text/x-python",
   "name": "python",
   "nbconvert_exporter": "python",
   "pygments_lexer": "ipython3",
   "version": "3.8.16"
  },
  "orig_nbformat": 4,
  "vscode": {
   "interpreter": {
    "hash": "35e4eaf7fc1241741242c84999f2000af8b451353219079a4e5df2fc9b8f3715"
   }
  }
 },
 "nbformat": 4,
 "nbformat_minor": 2
}
