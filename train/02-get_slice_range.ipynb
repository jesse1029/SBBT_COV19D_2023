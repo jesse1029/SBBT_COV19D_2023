{
 "cells": [
  {
   "cell_type": "code",
   "execution_count": 1,
   "id": "afec99e2",
   "metadata": {},
   "outputs": [],
   "source": [
    "import os\n",
    "import gc\n",
    "import cv2\n",
    "import math\n",
    "import copy\n",
    "import time\n",
    "import random\n",
    "\n",
    "# For data manipulation\n",
    "import numpy as np\n",
    "import pandas as pd\n",
    "\n",
    "# Pytorch Imports\n",
    "import torch\n",
    "import torch.nn as nn\n",
    "import torch.optim as optim\n",
    "import torch.nn.functional as F\n",
    "from torch.optim import lr_scheduler\n",
    "from torch.utils.data import Dataset, DataLoader\n",
    "from torch.cuda import amp\n",
    "\n",
    "# Albumentations for augmentations\n",
    "import albumentations as A\n",
    "from albumentations.pytorch import ToTensorV2\n",
    "\n",
    "\n",
    "from sklearn.metrics import f1_score,roc_auc_score\n",
    "\n",
    "\n",
    "import timm\n",
    "from timm.models.efficientnet import *\n",
    "\n",
    "# Utils\n",
    "import joblib\n",
    "from tqdm import tqdm\n",
    "from collections import defaultdict\n",
    "\n",
    "\n",
    "import warnings\n",
    "warnings.filterwarnings(\"ignore\")\n",
    "\n",
    "from sklearn.metrics import f1_score\n",
    "import matplotlib.pyplot as plt\n",
    "import scipy\n",
    "from scipy import ndimage\n",
    "\n",
    "import glob"
   ]
  },
  {
   "cell_type": "code",
   "execution_count": 2,
   "id": "997e728d",
   "metadata": {},
   "outputs": [],
   "source": [
    "# train_ct_all_list=list(glob.glob(r\"/ssd8/2023COVID19/Train_Valid_dataset/train_pure_crop/*/*/*\"))\n",
    "# print(len(train_ct_all_list))\n",
    "# valid_ct_all_list=list(glob.glob(r\"/ssd8/2023COVID19/Train_Valid_dataset/valid_pure_crop/*/*/*\")) \n",
    "# print(len(valid_ct_all_list))"
   ]
  },
  {
   "cell_type": "code",
   "execution_count": 3,
   "id": "8b487f73",
   "metadata": {},
   "outputs": [
    {
     "name": "stdout",
     "output_type": "stream",
     "text": [
      "(541028, 3) (42360, 3)\n"
     ]
    }
   ],
   "source": [
    "train_ct_all_pd = pd.read_csv('./chih_4_fold_covid_train_df.csv')[['path','slice_name']]\n",
    "train_ct_all_pd['full_path'] = train_ct_all_pd['path']+'/'+train_ct_all_pd['slice_name']\n",
    "train_ct_all_list = train_ct_all_pd.full_path.values.tolist()\n",
    "valid_ct_all_pd = pd.read_csv('./chih_4_fold_covid_valid_df.csv')[['path','slice_name']]\n",
    "valid_ct_all_pd['full_path'] = valid_ct_all_pd['path']+'/'+valid_ct_all_pd['slice_name']\n",
    "valid_ct_all_pd = valid_ct_all_pd[valid_ct_all_pd['full_path'].str.contains('challenge')]\n",
    "valid_ct_all_list = valid_ct_all_pd.full_path.values.tolist()\n",
    "print(train_ct_all_pd.shape, valid_ct_all_pd.shape)"
   ]
  },
  {
   "cell_type": "code",
   "execution_count": 4,
   "id": "81dfea04",
   "metadata": {},
   "outputs": [],
   "source": [
    "train_area=[]\n",
    "for path in tqdm(train_ct_all_list):\n",
    "    img = cv2.imread(path)\n",
    "    img2=ndimage.minimum_filter(img,5)\n",
    "    img_b=np.where(img2<100,0,255)\n",
    "    mask=scipy.ndimage.binary_fill_holes(img_b[:,:,0])\n",
    "    mask_=mask*255\n",
    "    aaa=mask_-img_b[:,:,0]\n",
    "    train_area.append(aaa.sum()/255)\n",
    "    "
   ]
  },
  {
   "cell_type": "code",
   "execution_count": 5,
   "id": "2d8ed2a8",
   "metadata": {},
   "outputs": [],
   "source": [
    "train_area_df=pd.DataFrame((zip(train_ct_all_list, train_area)), columns = ['path', 'area'])\n",
    "train_area_df_base = pd.read_csv(\"/ssd8/2023COVID19/Train_Valid_dataset/train_area_df1.csv\")\n",
    "new_challenge_train_area_df = pd.concat([train_area_df_base, train_area_df])\n",
    "new_challenge_train_area_df.to_csv(\"/ssd8/2023COVID19/Train_Valid_dataset/train_area_df1_challenge.csv\", index=False, encoding='utf-8-sig')\n",
    "print(new_challenge_train_area_df.shape)"
   ]
  },
  {
   "cell_type": "code",
   "execution_count": 6,
   "id": "197f1ecf",
   "metadata": {},
   "outputs": [
    {
     "name": "stderr",
     "output_type": "stream",
     "text": [
      "100%|██████████| 42360/42360 [27:27<00:00, 25.72it/s]\n"
     ]
    }
   ],
   "source": [
    "valid_area=[]\n",
    "for path in tqdm(valid_ct_all_list):\n",
    "    img = cv2.imread(path)\n",
    "    img2=ndimage.minimum_filter(img,5)\n",
    "    img_b=np.where(img2<100,0,255)\n",
    "    mask=scipy.ndimage.binary_fill_holes(img_b[:,:,0])\n",
    "    mask_=mask*255\n",
    "    aaa=mask_-img_b[:,:,0]\n",
    "    valid_area.append(aaa.sum()/255)"
   ]
  },
  {
   "cell_type": "code",
   "execution_count": 7,
   "id": "35e0867c",
   "metadata": {},
   "outputs": [
    {
     "name": "stdout",
     "output_type": "stream",
     "text": [
      "(150886, 2)\n"
     ]
    }
   ],
   "source": [
    "valid_area_df=pd.DataFrame((zip(valid_ct_all_list, valid_area)), columns = ['path', 'area'])\n",
    "valid_area_df.to_csv(\"/ssd8/2023COVID19/Train_Valid_dataset/valid_area_df1_challenge.csv\",index=False, encoding='utf-8-sig')\n",
    "valid_area_df_base = pd.read_csv(\"/ssd8/2023COVID19/Train_Valid_dataset/valid_area_df1.csv\")\n",
    "new_challenge_valid_area_df = pd.concat([valid_area_df_base, valid_area_df])\n",
    "new_challenge_valid_area_df.to_csv(\"/ssd8/2023COVID19/Train_Valid_dataset/valid_area_df1_challenge.csv\",index=False, encoding='utf-8-sig')\n",
    "\n",
    "print(new_challenge_valid_area_df.shape)"
   ]
  },
  {
   "cell_type": "code",
   "execution_count": 2,
   "id": "04b96562",
   "metadata": {},
   "outputs": [
    {
     "name": "stdout",
     "output_type": "stream",
     "text": [
      "(539939, 2) (150886, 2)\n"
     ]
    }
   ],
   "source": [
    "train_area_df=pd.read_csv(\"/ssd8/2023COVID19/Train_Valid_dataset/train_area_df1_challenge.csv\")\n",
    "valid_area_df=pd.read_csv(\"/ssd8/2023COVID19/Train_Valid_dataset/valid_area_df1_challenge.csv\")\n",
    "print(train_area_df.shape, valid_area_df.shape)"
   ]
  },
  {
   "cell_type": "code",
   "execution_count": 3,
   "id": "c4654f9a",
   "metadata": {},
   "outputs": [],
   "source": [
    "train_area_df[\"ct_path\"]=train_area_df[\"path\"].apply(lambda x: \"/\".join(x.split(\"/\")[:-1]))\n",
    "valid_area_df[\"ct_path\"]=valid_area_df[\"path\"].apply(lambda x: \"/\".join(x.split(\"/\")[:-1]))\n",
    "\n",
    "train_area_df[\"ct_slice\"]=train_area_df[\"path\"].apply(lambda x: int(x.split(\"/\")[-1].split(\".\")[0]))\n",
    "valid_area_df[\"ct_slice\"]=valid_area_df[\"path\"].apply(lambda x: int(x.split(\"/\")[-1].split(\".\")[0]))\n",
    "\n",
    "train_area_df.sort_values(by=['ct_path', 'ct_slice'], inplace=True)\n",
    "valid_area_df.sort_values(by=['ct_path', 'ct_slice'], inplace=True)\n",
    "\n"
   ]
  },
  {
   "cell_type": "code",
   "execution_count": 4,
   "id": "fcfb66d2",
   "metadata": {},
   "outputs": [],
   "source": [
    "def sum_max(a,w=0.4):\n",
    "    l=len(a)\n",
    "    k=int(np.ceil(l*w))\n",
    "    d=0\n",
    "    tmp_max=0\n",
    "    # print(l, k)\n",
    "    for i in range(l-k+1):\n",
    "        if np.sum(a[i:i+k])>tmp_max:\n",
    "            tmp_max=np.sum(a[i:i+k])\n",
    "            d=i\n",
    "    return d,d+k\n",
    "\n"
   ]
  },
  {
   "cell_type": "code",
   "execution_count": 5,
   "id": "e565e3e5",
   "metadata": {},
   "outputs": [
    {
     "name": "stderr",
     "output_type": "stream",
     "text": [
      "100%|██████████| 3032/3032 [03:45<00:00, 13.45it/s]\n"
     ]
    }
   ],
   "source": [
    "ct_path_list=train_area_df[\"ct_path\"].unique()\n",
    "train_dic={}\n",
    "for i in tqdm(range(len(ct_path_list))):\n",
    "    tmp_df=train_area_df[train_area_df[\"ct_path\"]==ct_path_list[i]].reset_index(drop=True)\n",
    "    train_dic[ct_path_list[i]]=list(sum_max(tmp_df[\"area\"].values,0.5))\n",
    "    # break"
   ]
  },
  {
   "cell_type": "code",
   "execution_count": 6,
   "id": "f924d245",
   "metadata": {},
   "outputs": [
    {
     "data": {
      "text/plain": [
       "3032"
      ]
     },
     "execution_count": 6,
     "metadata": {},
     "output_type": "execute_result"
    }
   ],
   "source": [
    "len(train_dic)"
   ]
  },
  {
   "cell_type": "code",
   "execution_count": 7,
   "id": "c32c1cd8",
   "metadata": {},
   "outputs": [
    {
     "name": "stderr",
     "output_type": "stream",
     "text": [
      "100%|██████████| 704/704 [00:16<00:00, 42.58it/s]\n"
     ]
    }
   ],
   "source": [
    "ct_path_list=valid_area_df[\"ct_path\"].unique()\n",
    "valid_dic={}\n",
    "for i in tqdm(range(len(ct_path_list))):\n",
    "    tmp_df=valid_area_df[valid_area_df[\"ct_path\"]==ct_path_list[i]].reset_index(drop=True)\n",
    "    valid_dic[ct_path_list[i]]=list(sum_max(tmp_df[\"area\"].values,0.5))"
   ]
  },
  {
   "cell_type": "code",
   "execution_count": 8,
   "id": "8dfd5592",
   "metadata": {},
   "outputs": [
    {
     "data": {
      "text/plain": [
       "704"
      ]
     },
     "execution_count": 8,
     "metadata": {},
     "output_type": "execute_result"
    }
   ],
   "source": [
    "len(valid_dic)"
   ]
  },
  {
   "cell_type": "code",
   "execution_count": 9,
   "id": "750dc054",
   "metadata": {},
   "outputs": [],
   "source": [
    "import pickle"
   ]
  },
  {
   "cell_type": "code",
   "execution_count": 10,
   "id": "bba4248c",
   "metadata": {},
   "outputs": [],
   "source": [
    "with open('/ssd8/2023COVID19/Train_Valid_dataset/train_dic1_05_challenge.pickle', 'wb') as handle:\n",
    "    pickle.dump(train_dic, handle, protocol=pickle.HIGHEST_PROTOCOL)"
   ]
  },
  {
   "cell_type": "code",
   "execution_count": 11,
   "id": "01a252cd",
   "metadata": {},
   "outputs": [],
   "source": [
    "with open('/ssd8/2023COVID19/Train_Valid_dataset/valid_dic1_05_challenge.pickle', 'wb') as handle:\n",
    "    pickle.dump(valid_dic, handle, protocol=pickle.HIGHEST_PROTOCOL)"
   ]
  },
  {
   "cell_type": "code",
   "execution_count": null,
   "id": "0c45d799",
   "metadata": {},
   "outputs": [],
   "source": []
  },
  {
   "cell_type": "code",
   "execution_count": null,
   "id": "3f4d8779",
   "metadata": {},
   "outputs": [],
   "source": []
  }
 ],
 "metadata": {
  "kernelspec": {
   "display_name": "covid2023",
   "language": "python",
   "name": "python3"
  },
  "language_info": {
   "codemirror_mode": {
    "name": "ipython",
    "version": 3
   },
   "file_extension": ".py",
   "mimetype": "text/x-python",
   "name": "python",
   "nbconvert_exporter": "python",
   "pygments_lexer": "ipython3",
   "version": "3.8.16"
  },
  "vscode": {
   "interpreter": {
    "hash": "35e4eaf7fc1241741242c84999f2000af8b451353219079a4e5df2fc9b8f3715"
   }
  }
 },
 "nbformat": 4,
 "nbformat_minor": 5
}
