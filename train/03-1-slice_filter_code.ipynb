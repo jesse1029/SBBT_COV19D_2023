{
 "cells": [
  {
   "cell_type": "code",
   "execution_count": 3,
   "metadata": {},
   "outputs": [],
   "source": [
    "import pickle, pandas as pd, numpy as np, os"
   ]
  },
  {
   "cell_type": "code",
   "execution_count": 6,
   "metadata": {},
   "outputs": [
    {
     "data": {
      "text/plain": [
       "4308"
      ]
     },
     "execution_count": 6,
     "metadata": {},
     "output_type": "execute_result"
    }
   ],
   "source": [
    "len(os.listdir(\"../../2023_covid/test_covid/unzip_ct/\"))"
   ]
  },
  {
   "cell_type": "code",
   "execution_count": 4,
   "metadata": {},
   "outputs": [],
   "source": [
    "with open('/ssd8/2023COVID19/CT-COVID19-Classification/train_code_fix/csv_pickle/filter_slice_train_dic1_05_challenge.pickle', 'rb') as f:\n",
    "    train_dic = pickle.load(f)\n",
    "\n",
    "with open('/ssd8/2023COVID19/CT-COVID19-Classification/train_code_fix/csv_pickle/filter_slice_valid_dic1_05_challenge.pickle', 'rb') as f:\n",
    "    valid_dic = pickle.load(f)"
   ]
  },
  {
   "cell_type": "code",
   "execution_count": 5,
   "metadata": {},
   "outputs": [
    {
     "name": "stdout",
     "output_type": "stream",
     "text": [
      "3028\n"
     ]
    },
    {
     "ename": "KeyError",
     "evalue": "'/ssd8/2023COVID19/Train_Valid_dataset/train_pure_crop/negative/ct_scan_781'",
     "output_type": "error",
     "traceback": [
      "\u001b[0;31m---------------------------------------------------------------------------\u001b[0m",
      "\u001b[0;31mKeyError\u001b[0m                                  Traceback (most recent call last)",
      "Cell \u001b[0;32mIn[5], line 7\u001b[0m\n\u001b[1;32m      1\u001b[0m \u001b[39m# del error axis [only train]\u001b[39;00m\n\u001b[1;32m      2\u001b[0m \u001b[39m# negative/extra_challenge1_non_cov_train_new_icassp/ct_scan3897\u001b[39;00m\n\u001b[1;32m      3\u001b[0m \u001b[39m# negative/extra_challenge1_non_cov_train_new_icassp/ct_scan3134\u001b[39;00m\n\u001b[1;32m      4\u001b[0m \u001b[39m# negative/ct_scan_781 \u001b[39;00m\n\u001b[1;32m      5\u001b[0m \u001b[39m# negative/train_non_covid/ct_scan1073\u001b[39;00m\n\u001b[1;32m      6\u001b[0m \u001b[39mprint\u001b[39m(\u001b[39mlen\u001b[39m(train_dic))\n\u001b[0;32m----> 7\u001b[0m \u001b[39mdel\u001b[39;00m train_dic[\u001b[39m\"\u001b[39m\u001b[39m/ssd8/2023COVID19/Train_Valid_dataset/train_pure_crop/negative/ct_scan_781\u001b[39m\u001b[39m\"\u001b[39m]\n\u001b[1;32m      8\u001b[0m \u001b[39mdel\u001b[39;00m train_dic[\u001b[39m\"\u001b[39m\u001b[39m/ssd8/2023COVID19/Train_Valid_dataset/train_pure_crop/negative/ct_scan1073\u001b[39m\u001b[39m\"\u001b[39m]\n\u001b[1;32m      9\u001b[0m \u001b[39mdel\u001b[39;00m train_dic[\u001b[39m\"\u001b[39m\u001b[39m/ssd8/2023COVID19/Unzip_dataset/train/negative/extra_challenge1_non_cov_train_new_icassp/ct_scan3897\u001b[39m\u001b[39m\"\u001b[39m]\n",
      "\u001b[0;31mKeyError\u001b[0m: '/ssd8/2023COVID19/Train_Valid_dataset/train_pure_crop/negative/ct_scan_781'"
     ]
    }
   ],
   "source": [
    "# del error axis [only train]\n",
    "# negative/extra_challenge1_non_cov_train_new_icassp/ct_scan3897\n",
    "# negative/extra_challenge1_non_cov_train_new_icassp/ct_scan3134\n",
    "# negative/ct_scan_781 \n",
    "# negative/train_non_covid/ct_scan1073\n",
    "print(len(train_dic))\n",
    "del train_dic[\"/ssd8/2023COVID19/Train_Valid_dataset/train_pure_crop/negative/ct_scan_781\"]\n",
    "del train_dic[\"/ssd8/2023COVID19/Train_Valid_dataset/train_pure_crop/negative/ct_scan1073\"]\n",
    "del train_dic[\"/ssd8/2023COVID19/Unzip_dataset/train/negative/extra_challenge1_non_cov_train_new_icassp/ct_scan3897\"]\n",
    "del train_dic[\"/ssd8/2023COVID19/Unzip_dataset/train/negative/extra_challenge1_non_cov_train_new_icassp/ct_scan3134\"]\n",
    "print(len(train_dic))"
   ]
  },
  {
   "cell_type": "code",
   "execution_count": 4,
   "metadata": {},
   "outputs": [],
   "source": [
    "replace_list = [\"extra_challenge1_non_cov_train_new_icassp\",\"extra_challenge1_non_cov_val_new_icassp\",\"extra_challenge1_cov_val_new_icassp\"]\n",
    "copy_train_dic = {}\n",
    "for keys_, value in train_dic.items():\n",
    "    if \"extra_challenge1_non_cov_train_new_icassp\" in keys_:\n",
    "        old_path = \"/ssd8/2023COVID19/Unzip_dataset/train/negative/\"\n",
    "        new_path = \"/ssd8/2023COVID19/Unzip_dataset/train_pure_crop_challenge/negative/\"\n",
    "        new_key = keys_.replace(old_path, new_path)\n",
    "    else:\n",
    "        new_key = keys_\n",
    "    copy_train_dic[new_key] = value\n",
    "train_dic = copy_train_dic\n",
    "copy_valid_dic = {}\n",
    "for keys_, value in valid_dic.items():\n",
    "    if \"extra_challenge1_non_cov_val_new_icassp\" in keys_:\n",
    "        old_path = \"/ssd8/2023COVID19/Unzip_dataset/valid/negative/\"\n",
    "        new_path = \"/ssd8/2023COVID19/Unzip_dataset/valid_pure_crop_challenge/negative/\"\n",
    "        new_key = keys_.replace(old_path, new_path)\n",
    "    else:\n",
    "        new_key = keys_\n",
    "    copy_valid_dic[new_key] = value\n",
    "valid_dic = copy_valid_dic\n",
    "copy_valid_dic = {}\n",
    "for keys_, value in valid_dic.items():\n",
    "    if \"extra_challenge1_cov_val_new_icassp\" in keys_:\n",
    "        old_path = \"/ssd8/2023COVID19/Unzip_dataset/valid/positive/\"\n",
    "        new_path = \"/ssd8/2023COVID19/Unzip_dataset/valid_pure_crop_challenge/positive/\"\n",
    "        new_key = keys_.replace(old_path, new_path)\n",
    "    else:\n",
    "        new_key = keys_\n",
    "    copy_valid_dic[new_key] = value\n",
    "valid_dic = copy_valid_dic"
   ]
  },
  {
   "cell_type": "code",
   "execution_count": 5,
   "metadata": {},
   "outputs": [
    {
     "name": "stdout",
     "output_type": "stream",
     "text": [
      "========== loading data DataFrame ==========\n"
     ]
    }
   ],
   "source": [
    "train_df = pd.DataFrame(None, columns=['path', 'filename', 'label'])\n",
    "valid_df = pd.DataFrame(None, columns=['path', 'filename', 'label'])\n",
    "\n",
    "print(\"=\"*10, \"loading data DataFrame\", \"=\"*10)\n",
    "for path in list(train_dic.keys()):\n",
    "    image_list = os.listdir(path)\n",
    "    image_list.sort(key=lambda x: int(os.path.splitext(x)[0]))\n",
    "    temp_df = pd.DataFrame([path]*len(image_list), columns=['path'])\n",
    "    temp_df['filename'] = image_list\n",
    "    if 'negative' in temp_df.path[0]:\n",
    "        temp_df['label'] = [0]*len(image_list)\n",
    "    else:\n",
    "        temp_df['label'] = [1]*len(image_list)\n",
    "    train_df = pd.concat([train_df, temp_df])\n",
    "\n",
    "for path in list(valid_dic.keys()):\n",
    "    image_list = os.listdir(path)\n",
    "    image_list.sort(key=lambda x: int(os.path.splitext(x)[0]))\n",
    "    temp_df = pd.DataFrame([path]*len(image_list), columns=['path'])\n",
    "    temp_df['filename'] = image_list\n",
    "    if 'negative' in temp_df.path[0]:\n",
    "        temp_df['label'] = [0]*len(image_list)\n",
    "    else:\n",
    "        temp_df['label'] = [1]*len(image_list)\n",
    "    valid_df = pd.concat([valid_df, temp_df]) "
   ]
  },
  {
   "cell_type": "code",
   "execution_count": 6,
   "metadata": {},
   "outputs": [
    {
     "name": "stdout",
     "output_type": "stream",
     "text": [
      "3028 704\n",
      "(539562, 3) (150886, 3)\n"
     ]
    }
   ],
   "source": [
    "import copy\n",
    "cp_train_dic = copy.deepcopy(train_dic)\n",
    "cp_valid_dic = copy.deepcopy(valid_dic)\n",
    "print(len(train_dic), len(valid_dic))\n",
    "print(train_df.shape, valid_df.shape)"
   ]
  },
  {
   "cell_type": "code",
   "execution_count": 7,
   "metadata": {},
   "outputs": [],
   "source": [
    "# drop_count_t = 0\n",
    "# filter_num = 5\n",
    "# for path_ in train_dic:\n",
    "#     i = len(os.listdir(path_))\n",
    "#     if i <filter_num:\n",
    "#         print(f\"張數{i}\", path_)\n",
    "#         drop_count_t = drop_count_t + i\n",
    "#         del cp_train_dic[path_]\n",
    "#         train_df = train_df[train_df.path!=path_]\n",
    "# drop_count_v = 0\n",
    "# for path_ in valid_dic:\n",
    "#     i = len(os.listdir(path_))\n",
    "#     if i <filter_num:\n",
    "#         print(f\"張數{i}\", path_)\n",
    "#         drop_count_v = drop_count_v + i\n",
    "#         del cp_valid_dic[path_]\n",
    "#         valid_df = valid_df[valid_df.path!=path_]\n",
    "\n",
    "# print(len(cp_train_dic), len(cp_valid_dic))\n",
    "# print(train_df.shape, valid_df.shape)\n",
    "# print(drop_count_t, drop_count_v)"
   ]
  },
  {
   "cell_type": "code",
   "execution_count": 8,
   "metadata": {},
   "outputs": [
    {
     "name": "stdout",
     "output_type": "stream",
     "text": [
      "(3028, 2) (704, 2)\n"
     ]
    }
   ],
   "source": [
    "train_df = train_df[['path', 'label']]\n",
    "valid_df = valid_df[['path', 'label']]\n",
    "train_df = train_df.drop_duplicates(subset='path')\n",
    "valid_df = valid_df.drop_duplicates(subset='path')\n",
    "print(train_df.shape, valid_df.shape)"
   ]
  },
  {
   "cell_type": "code",
   "execution_count": 10,
   "metadata": {},
   "outputs": [],
   "source": [
    "with open('/ssd8/2023COVID19/CT-COVID19-Classification/train_code_fix/filter_slice_train_dic1_05_challenge.pickle', 'wb') as handle:\n",
    "    pickle.dump(cp_train_dic, handle, protocol=pickle.HIGHEST_PROTOCOL)\n",
    "with open('/ssd8/2023COVID19/CT-COVID19-Classification/train_code_fix/filter_slice_valid_dic1_05_challenge.pickle', 'wb') as handle:\n",
    "    pickle.dump(cp_valid_dic, handle, protocol=pickle.HIGHEST_PROTOCOL)\n",
    "train_df.to_csv(\"/ssd8/2023COVID19/CT-COVID19-Classification/train_code_fix/filter_slice_train_df_challenge.csv\", index=False, encoding='utf-8-sig')\n",
    "valid_df.to_csv(\"/ssd8/2023COVID19/CT-COVID19-Classification/train_code_fix/filter_slice_valid_df_challenge.csv\", index=False, encoding='utf-8-sig')"
   ]
  },
  {
   "cell_type": "code",
   "execution_count": null,
   "metadata": {},
   "outputs": [],
   "source": []
  }
 ],
 "metadata": {
  "kernelspec": {
   "display_name": "covid2023",
   "language": "python",
   "name": "python3"
  },
  "language_info": {
   "codemirror_mode": {
    "name": "ipython",
    "version": 3
   },
   "file_extension": ".py",
   "mimetype": "text/x-python",
   "name": "python",
   "nbconvert_exporter": "python",
   "pygments_lexer": "ipython3",
   "version": "3.8.16"
  },
  "orig_nbformat": 4,
  "vscode": {
   "interpreter": {
    "hash": "35e4eaf7fc1241741242c84999f2000af8b451353219079a4e5df2fc9b8f3715"
   }
  }
 },
 "nbformat": 4,
 "nbformat_minor": 2
}
